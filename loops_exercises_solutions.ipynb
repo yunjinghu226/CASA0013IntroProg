{
 "cells": [
  {
   "cell_type": "markdown",
   "metadata": {},
   "source": [
    "# Session 3 - Loops - Exercises"
   ]
  },
  {
   "cell_type": "markdown",
   "metadata": {},
   "source": [
    "1) Use a for loop to print your name 15 times."
   ]
  },
  {
   "cell_type": "code",
   "execution_count": 69,
   "metadata": {},
   "outputs": [
    {
     "name": "stdout",
     "output_type": "stream",
     "text": [
      "Thomas\n",
      "Thomas\n",
      "Thomas\n",
      "Thomas\n",
      "Thomas\n",
      "Thomas\n",
      "Thomas\n",
      "Thomas\n",
      "Thomas\n",
      "Thomas\n",
      "Thomas\n",
      "Thomas\n",
      "Thomas\n",
      "Thomas\n",
      "Thomas\n"
     ]
    }
   ],
   "source": [
    "my_name = \"Thomas\"\n",
    "for i in range(15):\n",
    "    print(my_name)"
   ]
  },
  {
   "cell_type": "markdown",
   "metadata": {},
   "source": [
    "2) Use a for loop to create a list of the first 8 cube numbers."
   ]
  },
  {
   "cell_type": "code",
   "execution_count": 70,
   "metadata": {},
   "outputs": [
    {
     "name": "stdout",
     "output_type": "stream",
     "text": [
      "[1, 8, 27, 64, 125, 216, 343, 512]\n"
     ]
    }
   ],
   "source": [
    "cube_list = []\n",
    "\n",
    "for i in range(1,9):\n",
    "    cube_list.append(i**3)\n",
    "    \n",
    "print(cube_list)"
   ]
  },
  {
   "cell_type": "markdown",
   "metadata": {},
   "source": [
    "3) Use a while loop to print the multiples of 7 that are less than 50."
   ]
  },
  {
   "cell_type": "code",
   "execution_count": 71,
   "metadata": {},
   "outputs": [
    {
     "name": "stdout",
     "output_type": "stream",
     "text": [
      "7\n",
      "14\n",
      "21\n",
      "28\n",
      "35\n",
      "42\n",
      "49\n"
     ]
    }
   ],
   "source": [
    "multiple = 7\n",
    "\n",
    "while multiple < 50:\n",
    "    print(multiple)\n",
    "    multiple += 7 # This is the same as multiple = multiple + 7"
   ]
  },
  {
   "cell_type": "markdown",
   "metadata": {},
   "source": [
    "4) Here is a list of integers:"
   ]
  },
  {
   "cell_type": "code",
   "execution_count": 2,
   "metadata": {
    "collapsed": true
   },
   "outputs": [],
   "source": [
    "numbers = [951, 402, 984, 651, 360, 369, 408, 319,\n",
    "           601, 485, 980, 507, 725, 547, 544, 615,\n",
    "           183, 165, 141, 501, 263, 617, 865, 575,\n",
    "           219, 390, 984, 592, 236, 105, 942, 941,\n",
    "           386, 462, 847, 418, 907, 344, 236, 375,\n",
    "           823, 566, 597, 978, 328, 615, 953, 345,\n",
    "           399, 162, 758, 219, 918, 237, 412, 566,\n",
    "           826, 248, 866, 950, 626, 949, 687, 217,\n",
    "           815, 667, 104, 958, 512, 224, 892, 894,\n",
    "           767, 553, 181, 379, 843, 831, 445, 742,\n",
    "           717, 958, 609, 842, 451, 688, 753, 854,\n",
    "           685, 793, 857, 440, 380, 126, 721, 328,\n",
    "           753, 470, 743, 527, 580, 526, 521, 528]"
   ]
  },
  {
   "cell_type": "markdown",
   "metadata": {},
   "source": [
    "Sort the list into ascending order; then use a while loop to sum all the numbers that are less than 300 and print the result (Adapted from a question on http://learnpython.org):"
   ]
  },
  {
   "cell_type": "code",
   "execution_count": 3,
   "metadata": {},
   "outputs": [
    {
     "name": "stdout",
     "output_type": "stream",
     "text": [
      "3266\n"
     ]
    }
   ],
   "source": [
    "numbers.sort()\n",
    "\n",
    "total = 0 # to keep track of the cumulative total.\n",
    "index = 0 # to keep track of how many numbers we have looked through\n",
    "\n",
    "value = numbers[index] # The first value in the sorted list\n",
    "\n",
    "while value < 300:\n",
    "    total += value # Add to the total\n",
    "    index += 1 # Increase the count of how many numbers you have looked through\n",
    "    value = numbers[index] # Consider the next value\n",
    "\n",
    "print(total)"
   ]
  },
  {
   "cell_type": "markdown",
   "metadata": {
    "collapsed": true
   },
   "source": [
    "5) Here is a list of floats:"
   ]
  },
  {
   "cell_type": "code",
   "execution_count": 4,
   "metadata": {
    "collapsed": true
   },
   "outputs": [],
   "source": [
    "list_floats = [1.2, 1.5, 1.7, 1.8, 1.9, 2.0, 2.2, 1.1, 1.6, 1.2]"
   ]
  },
  {
   "cell_type": "markdown",
   "metadata": {},
   "source": [
    "Using a loop, remove all the values in even numbered positions and print the minimum and maximum of the resulting list.\n",
    "\n",
    "*(Remember that the first value has position 0.)*"
   ]
  },
  {
   "cell_type": "code",
   "execution_count": 5,
   "metadata": {},
   "outputs": [
    {
     "name": "stdout",
     "output_type": "stream",
     "text": [
      "1.1\n",
      "2.0\n"
     ]
    }
   ],
   "source": [
    "# There is a trap here.\n",
    "# If you try to remove the values in order (value 0, value 2, etc.) there will be a problem.\n",
    "# Once you have removed value 0 from the list, all the numbering changes!\n",
    "# For this reason, we will go through from back to front, removing the 8th value, followed by the 6th, and so on:\n",
    "\n",
    "for i in range(8,-1,-2):\n",
    "    list_floats.remove(list_floats[i])\n",
    "\n",
    "print(min(list_floats))\n",
    "print(max(list_floats))"
   ]
  },
  {
   "cell_type": "markdown",
   "metadata": {},
   "source": [
    "6) Ask the user to input a number (a positive integer). Using a loop, calculate and print the factorial of that number:\n",
    "\n",
    "*(The factorial of a number (represented by !) is the product of all integers from *1* to that number. i.e. *5! = 1\\*2\\*3\\*4\\*5* .)*"
   ]
  },
  {
   "cell_type": "code",
   "execution_count": 76,
   "metadata": {},
   "outputs": [
    {
     "name": "stdout",
     "output_type": "stream",
     "text": [
      "Please input a positive integer: 12\n",
      "479001600\n"
     ]
    }
   ],
   "source": [
    "user_number = input(\"Please input a positive integer: \")\n",
    "user_number = int(user_number)\n",
    "result = 1 # To keep track of the continuing multiplication.\n",
    "\n",
    "for i in range(1,user_number + 1):\n",
    "    result *= i # This is the same as result = result * i\n",
    "\n",
    "print(result)"
   ]
  },
  {
   "cell_type": "markdown",
   "metadata": {
    "collapsed": true
   },
   "source": [
    "7) Using a loop, create a list of all the Fibonacci numbers less than 100. Think carefully about the variables that you will need to define.\n",
    "\n",
    "*(The Fibonacci sequence starts 1, 1, then each number is the sum of the previous two: 1,1,2,3,5,8,...)*"
   ]
  },
  {
   "cell_type": "code",
   "execution_count": 77,
   "metadata": {},
   "outputs": [
    {
     "name": "stdout",
     "output_type": "stream",
     "text": [
      "[1, 1, 2, 3, 5, 8, 13, 21, 34, 55, 89]\n"
     ]
    }
   ],
   "source": [
    "# We always need to store two consecutive numbers of the sequence, so that we can add them together to get the next.\n",
    "# Here are the first two values:\n",
    "number_1 = 1\n",
    "number_2 = 1\n",
    "\n",
    "# Start the list with the first value:\n",
    "fib_list = [number_1]\n",
    "\n",
    "while number_2 < 100:\n",
    "    \n",
    "    # Add the next number:\n",
    "    fib_list.append(number_2)\n",
    "    \n",
    "    # Shift the values of number_1 and number_2 to represent the next pair of numbers in the sequence.\n",
    "    # i.e. number_2 becomes the new number_1, while the new number_2 is the sum of the previous two values:\n",
    "    number_1, number_2 = number_2, number_1 + number_2\n",
    "    \n",
    "print(fib_list)"
   ]
  },
  {
   "cell_type": "markdown",
   "metadata": {
    "collapsed": true
   },
   "source": [
    "8) Use a for loop within a for loop to write all possible two letter words using the letters A, B, C and D.\n",
    "\n",
    "*(Don't worry about whether they are real words! You just need all possible ordered combinations of the letters.)*"
   ]
  },
  {
   "cell_type": "code",
   "execution_count": 78,
   "metadata": {},
   "outputs": [
    {
     "name": "stdout",
     "output_type": "stream",
     "text": [
      "AA\n",
      "AB\n",
      "AC\n",
      "AD\n",
      "BA\n",
      "BB\n",
      "BC\n",
      "BD\n",
      "CA\n",
      "CB\n",
      "CC\n",
      "CD\n",
      "DA\n",
      "DB\n",
      "DC\n",
      "DD\n"
     ]
    }
   ],
   "source": [
    "letters = 'ABCD'\n",
    "for letter1 in letters:\n",
    "    for letter2 in letters:\n",
    "        print(letter1 + letter2)"
   ]
  },
  {
   "cell_type": "markdown",
   "metadata": {
    "collapsed": true
   },
   "source": [
    "9) Ask the user to input a word. Use a loop to create a list containing strings of the first letter of the word, the first two letters of the word, the first three letters of the word, and so on:\n",
    "\n",
    "\n",
    "*(e.g. If the user inserts the word 'cars', you should produce the list ['c','ca','car','cars'].)*"
   ]
  },
  {
   "cell_type": "code",
   "execution_count": 80,
   "metadata": {},
   "outputs": [
    {
     "name": "stdout",
     "output_type": "stream",
     "text": [
      "Please enter a word: entertain\n",
      "['e', 'en', 'ent', 'ente', 'enter', 'entert', 'enterta', 'entertai', 'entertain']\n"
     ]
    }
   ],
   "source": [
    "user_word = input(\"Please enter a word: \")\n",
    "\n",
    "user_word_length = len(user_word) # So that we know how many times to loop...\n",
    "\n",
    "solution_list = []\n",
    "\n",
    "for i in range(1,user_word_length + 1):\n",
    "    solution_list.append(user_word[:i]) # This adds longer and longer sequences of letters, as i increases.\n",
    "\n",
    "print(solution_list)"
   ]
  },
  {
   "cell_type": "markdown",
   "metadata": {
    "collapsed": true
   },
   "source": [
    "10) COMPREHENSIONS\n",
    "\n",
    "a) Use a comprehension to create a list containing 15 repetitions of your name.\n",
    "\n",
    "b) Use a comprehension to create a list of the sums of all consecutive numbers from 1 to 10 (i.e. 1+2, 2+3, …)."
   ]
  },
  {
   "cell_type": "code",
   "execution_count": 81,
   "metadata": {},
   "outputs": [
    {
     "name": "stdout",
     "output_type": "stream",
     "text": [
      "['Thomas', 'Thomas', 'Thomas', 'Thomas', 'Thomas', 'Thomas', 'Thomas', 'Thomas', 'Thomas', 'Thomas', 'Thomas', 'Thomas', 'Thomas', 'Thomas', 'Thomas']\n",
      "[3, 5, 7, 9, 11, 13, 15, 17, 19]\n"
     ]
    }
   ],
   "source": [
    "# 10a\n",
    "list_10a = [my_name for i in range(15)]\n",
    "\n",
    "# 10b\n",
    "list_10b = [i + (i+1) for i in range(1,10)]\n",
    "\n",
    "print(list_10a)\n",
    "print(list_10b)"
   ]
  },
  {
   "cell_type": "markdown",
   "metadata": {},
   "source": [
    "If you finish these questions, you can learn about another useful Python object, the dictionary, at https://www.learnpython.org/en/Dictionaries."
   ]
  },
  {
   "cell_type": "code",
   "execution_count": null,
   "metadata": {
    "collapsed": true
   },
   "outputs": [],
   "source": []
  }
 ],
 "metadata": {
  "kernelspec": {
   "display_name": "Python 3",
   "language": "python",
   "name": "python3"
  },
  "language_info": {
   "codemirror_mode": {
    "name": "ipython",
    "version": 3
   },
   "file_extension": ".py",
   "mimetype": "text/x-python",
   "name": "python",
   "nbconvert_exporter": "python",
   "pygments_lexer": "ipython3",
   "version": "3.6.5"
  }
 },
 "nbformat": 4,
 "nbformat_minor": 1
}
