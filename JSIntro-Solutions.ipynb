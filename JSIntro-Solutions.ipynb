{
 "cells": [
  {
   "cell_type": "markdown",
   "metadata": {},
   "source": [
    "# An Introduction to JavaScript"
   ]
  },
  {
   "cell_type": "markdown",
   "metadata": {},
   "source": [
    "Here we'll briefly cover some points about JavaScript.\n",
    "\n",
    "You can quickly and easily add short JS scripts to your Jupyter notebook, as shown below:"
   ]
  },
  {
   "cell_type": "code",
   "execution_count": null,
   "metadata": {
    "collapsed": false
   },
   "outputs": [],
   "source": [
    "%%javascript\n",
    "\n",
    "// You can add JavaScript code here!\n",
    "// (and this is how you add a comment - with double /s, not a #)\n",
    "\n",
    "/* You can also add quite a lot of text\n",
    "in between these glorious delimiters\n",
    "so if you have a lot to say\n",
    "it might be worth\n",
    "considering */"
   ]
  },
  {
   "cell_type": "markdown",
   "metadata": {},
   "source": [
    "Whitespace doesn't work the same way as it does in Python. Instead, you'll be separating your commands with the character ;"
   ]
  },
  {
   "cell_type": "markdown",
   "metadata": {},
   "source": [
    "### Hello, World! - Way 1"
   ]
  },
  {
   "cell_type": "markdown",
   "metadata": {},
   "source": [
    "In the first case, we create a string in JavaScript and export that value to the kernel."
   ]
  },
  {
   "cell_type": "code",
   "execution_count": null,
   "metadata": {
    "collapsed": false
   },
   "outputs": [],
   "source": [
    "%%javascript\n",
    "\n",
    "var message = \"Hello, World!\";\n",
    "IPython.notebook.kernel.execute('message=\"' + message + '\";');\n"
   ]
  },
  {
   "cell_type": "code",
   "execution_count": null,
   "metadata": {
    "collapsed": false
   },
   "outputs": [],
   "source": [
    "print(message)"
   ]
  },
  {
   "cell_type": "markdown",
   "metadata": {},
   "source": [
    "### Hello, World! - Way 2"
   ]
  },
  {
   "cell_type": "markdown",
   "metadata": {},
   "source": [
    "Now we'll try debugging to the JavaScript \"console\".\n",
    "\n",
    "If you're having trouble accessing your JavaScript console, you can look for a guide to doing so with your browser (for example https://developers.google.com/web/tools/chrome-devtools/console/ for Chrome or https://developer.mozilla.org/en-US/docs/Tools/Browser_Console for Firefox)"
   ]
  },
  {
   "cell_type": "code",
   "execution_count": null,
   "metadata": {
    "collapsed": false
   },
   "outputs": [],
   "source": [
    "%%javascript\n",
    "\n",
    "var message = \"Hello, World!\";\n",
    "console.log(message);"
   ]
  },
  {
   "cell_type": "markdown",
   "metadata": {},
   "source": [
    "### An Introduction to Variables"
   ]
  },
  {
   "cell_type": "markdown",
   "metadata": {},
   "source": [
    "We're going to talk about variables and the kinds of things which variables can be, but for now let's practice working with numbers, strings, and booleans. \n",
    "\n",
    "* strings can be written starting with ' or \"\n",
    "* there is only one kind of number - you can include or omit the decimal\n",
    "* booleans have the same range of values as in Python - **true** or **false**\n",
    "\n",
    "The important things to remember about variables is that they have to be **defined** using the term \"var\""
   ]
  },
  {
   "cell_type": "code",
   "execution_count": null,
   "metadata": {
    "collapsed": true
   },
   "outputs": [],
   "source": [
    "%%javascript\n",
    "\n",
    "var example = \"I am an example of a variable\";"
   ]
  },
  {
   "cell_type": "markdown",
   "metadata": {},
   "source": [
    "Try defining a number of variables in the same line"
   ]
  },
  {
   "cell_type": "code",
   "execution_count": null,
   "metadata": {
    "collapsed": true
   },
   "outputs": [],
   "source": [
    "%%javascript\n",
    "\n",
    "var example = 1, dummy = 2, whatsit = 3;"
   ]
  },
  {
   "cell_type": "markdown",
   "metadata": {},
   "source": [
    "Now try to define a variable and then later its value."
   ]
  },
  {
   "cell_type": "code",
   "execution_count": null,
   "metadata": {
    "collapsed": true
   },
   "outputs": [],
   "source": [
    "%%javascript\n",
    "\n",
    "var example;\n",
    "example = 1;"
   ]
  },
  {
   "cell_type": "markdown",
   "metadata": {},
   "source": [
    "What happens if you define a variable without setting it to a value?"
   ]
  },
  {
   "cell_type": "code",
   "execution_count": null,
   "metadata": {
    "collapsed": false
   },
   "outputs": [],
   "source": [
    "%%javascript\n",
    "\n",
    "var example;\n",
    "console.log(example);"
   ]
  },
  {
   "cell_type": "markdown",
   "metadata": {},
   "source": [
    "What happens if you have already declared a variable, and then define the variable a second time?"
   ]
  },
  {
   "cell_type": "code",
   "execution_count": null,
   "metadata": {
    "collapsed": false
   },
   "outputs": [],
   "source": [
    "%%javascript\n",
    "\n",
    "var example = 1;\n",
    "var example = 2;\n",
    "console.log(example);"
   ]
  },
  {
   "cell_type": "markdown",
   "metadata": {},
   "source": [
    "How can you test what kind of object you have? Try using the \"typeof\" function."
   ]
  },
  {
   "cell_type": "code",
   "execution_count": null,
   "metadata": {
    "collapsed": false
   },
   "outputs": [],
   "source": [
    "%%javascript\n",
    "\n",
    "var example = \"my string\";\n",
    "console.log(typeof(example));"
   ]
  },
  {
   "cell_type": "markdown",
   "metadata": {},
   "source": [
    "Predict the outcome of each of the following lines - is it what you expected? Why, or why not?"
   ]
  },
  {
   "cell_type": "code",
   "execution_count": null,
   "metadata": {
    "collapsed": false
   },
   "outputs": [],
   "source": [
    "%%javascript\n",
    "\n",
    "var a = \"30\", b = \"20\";\n",
    "var c = a + b;\n",
    "console.log(c);"
   ]
  },
  {
   "cell_type": "code",
   "execution_count": null,
   "metadata": {
    "collapsed": false
   },
   "outputs": [],
   "source": [
    "%%javascript\n",
    "\n",
    "var a = 30, b = 20;\n",
    "var c = a + b;\n",
    "console.log(c);"
   ]
  },
  {
   "cell_type": "code",
   "execution_count": null,
   "metadata": {
    "collapsed": false
   },
   "outputs": [],
   "source": [
    "%%javascript\n",
    "\n",
    "var a = 30, b = \"20\";\n",
    "var c = a + b;\n",
    "console.log(c);"
   ]
  },
  {
   "cell_type": "code",
   "execution_count": null,
   "metadata": {
    "collapsed": false
   },
   "outputs": [],
   "source": [
    "%%javascript\n",
    "\n",
    "var a = 30, b = 20, c = \"10\";\n",
    "var d = a + b + c;\n",
    "console.log(d);"
   ]
  },
  {
   "cell_type": "markdown",
   "metadata": {},
   "source": [
    "### Operators"
   ]
  },
  {
   "cell_type": "markdown",
   "metadata": {},
   "source": [
    "Try some of the same techniques you learned with Python - e.g. adding two strings together, or a string and an integer."
   ]
  },
  {
   "cell_type": "code",
   "execution_count": null,
   "metadata": {
    "collapsed": true
   },
   "outputs": [],
   "source": [
    "%%javascript\n",
    "\n",
    "var concatted = \"one string\" + \"another\";"
   ]
  },
  {
   "cell_type": "code",
   "execution_count": null,
   "metadata": {
    "collapsed": true
   },
   "outputs": [],
   "source": [
    "%%javascript\n",
    "\n",
    "// try out the ternary operator!\n",
    "\n",
    "var message = (true) ? \"it's true\" : \"it's false\";\n",
    "console.log(message);"
   ]
  },
  {
   "cell_type": "markdown",
   "metadata": {},
   "source": [
    "# A brief comparison - JavaScript vs Python"
   ]
  },
  {
   "cell_type": "markdown",
   "metadata": {},
   "source": [
    "## Variables"
   ]
  },
  {
   "cell_type": "code",
   "execution_count": null,
   "metadata": {
    "collapsed": false
   },
   "outputs": [],
   "source": [
    "%%javascript\n",
    "\n",
    "// defining variables - COMPARISON\n",
    "\n",
    "var guest = 'Susan';\n",
    "var score = 8;\n",
    "\n",
    "var guest = 'Susan', score = 8;\n",
    "\n",
    "var guest, score;\n",
    "guest = 'Susan';\n",
    "score = 8;"
   ]
  },
  {
   "cell_type": "code",
   "execution_count": null,
   "metadata": {
    "collapsed": true
   },
   "outputs": [],
   "source": [
    "# defining variables - COMPARISON\n",
    "guest = 'Susan'\n",
    "score = 8"
   ]
  },
  {
   "cell_type": "markdown",
   "metadata": {},
   "source": [
    "## Arrays"
   ]
  },
  {
   "cell_type": "code",
   "execution_count": null,
   "metadata": {
    "collapsed": true
   },
   "outputs": [],
   "source": [
    "%%javascript\n",
    "\n",
    "var movies = [\"The Last Jedi\", \"A New Hope\", \"The Empire Strikes Back\"];\n",
    "var len = movies.length;\n",
    "var sortedMovies = movies.sort();\n",
    "\n",
    "var firstFilm = movies[0];\n",
    "\n",
    "// arrays - COMPARISON\n",
    "\n",
    "var shows = [\"Babylon 5\", \"Battlestar Galactica\", \"Firefly\"];\n",
    "shows.push(\"Electric Dreams\");\n",
    "shows[shows.length] = \"Star Trek\";\n",
    "delete shows[0]"
   ]
  },
  {
   "cell_type": "code",
   "execution_count": null,
   "metadata": {
    "collapsed": false
   },
   "outputs": [],
   "source": [
    "# arrays - COMPARISON\n",
    "\n",
    "shows = [\"Babylon 5\", \"Battlestar Galactica\", \"Firefly\"]\n",
    "shows.append(\"Electric Dreams\")\n",
    "del shows[0]"
   ]
  },
  {
   "cell_type": "markdown",
   "metadata": {},
   "source": [
    "## Conditionals"
   ]
  },
  {
   "cell_type": "code",
   "execution_count": null,
   "metadata": {
    "collapsed": true
   },
   "outputs": [],
   "source": [
    "%%javascript\n",
    "\n",
    "// conditionals - COMPARISON\n",
    "\n",
    "var myBool = true;\n",
    "if(myBool){ // <- check out my fancy curly braces!!!\n",
    "    console.log(\"It's true!\");\n",
    "} // <- awww yeah\n",
    "else {\n",
    "    console.log(\"It's not true :(\");\n",
    "}"
   ]
  },
  {
   "cell_type": "code",
   "execution_count": null,
   "metadata": {
    "collapsed": true
   },
   "outputs": [],
   "source": [
    "# conditionals - COMPARISON\n",
    "\n",
    "myBool = True\n",
    "if myBool:\n",
    "    print(\"It's true!\")\n",
    "else:\n",
    "    print(\"It's not true :(\")"
   ]
  },
  {
   "cell_type": "markdown",
   "metadata": {},
   "source": [
    "## Loops"
   ]
  },
  {
   "cell_type": "code",
   "execution_count": null,
   "metadata": {
    "collapsed": true
   },
   "outputs": [],
   "source": [
    "%%javascript\n",
    "\n",
    "// for loops\n",
    "\n",
    "for (var i = 0; i < 10; i++) {\n",
    "    console.log(\"Loop counter: \" + i);\n",
    "}\n",
    "\n",
    "var myArray = [2, 4, 6, 8];\n",
    "var x;\n",
    "for (x in myArray) {\n",
    "    console.log(\"Element=\" + myArray[x]);\n",
    "}\n",
    "\n",
    "// while loop\n",
    "\n",
    "var i = 0;\n",
    "while (i < 10){\n",
    "    console.log(\"While loop counter: \" + i)\n",
    "    i++;\n",
    "}\n",
    "\n"
   ]
  },
  {
   "cell_type": "code",
   "execution_count": null,
   "metadata": {
    "collapsed": false
   },
   "outputs": [],
   "source": [
    "# for loop\n",
    "for i in range(0,10):\n",
    "    print(\"Loop counter \" + str(i))   \n",
    "\n",
    "# while loop\n",
    "i = 0\n",
    "while i < 10:\n",
    "    print(\"While loop counter: \" + str(i))\n",
    "    i += 1"
   ]
  },
  {
   "cell_type": "markdown",
   "metadata": {},
   "source": [
    "## Functions"
   ]
  },
  {
   "cell_type": "code",
   "execution_count": null,
   "metadata": {
    "collapsed": false
   },
   "outputs": [],
   "source": [
    "%%javascript\n",
    "\n",
    "// function\n",
    "\n",
    "function exampleFunction() {\n",
    "    console.log(\"Hi there!\");\n",
    "}\n",
    "\n",
    "exampleFunction();\n",
    "\n",
    "\n",
    "// one which takes values...\n",
    "\n",
    "function valueTaker(x){\n",
    "    console.log(x);\n",
    "}\n",
    "\n",
    "valueTaker(\"a wild passed value appears!\");\n",
    "\n",
    "// ... and one which returns them!\n",
    "\n",
    "function doAThingFunc(x){\n",
    "    console.log(\"I've been passed the following: \" + x)\n",
    "    return x + \"-amajig\";\n",
    "}\n",
    "\n",
    "var majigged = doAThingFunc(\"thing\");\n",
    "console.log(majigged);"
   ]
  },
  {
   "cell_type": "code",
   "execution_count": null,
   "metadata": {
    "collapsed": true
   },
   "outputs": [],
   "source": [
    "def exampleFunction():\n",
    "    print(\"Hi there!\")\n",
    "    \n",
    "exampleFunction()"
   ]
  }
 ],
 "metadata": {
  "kernelspec": {
   "display_name": "Python 3",
   "language": "python",
   "name": "python3"
  },
  "language_info": {
   "codemirror_mode": {
    "name": "ipython",
    "version": 3
   },
   "file_extension": ".py",
   "mimetype": "text/x-python",
   "name": "python",
   "nbconvert_exporter": "python",
   "pygments_lexer": "ipython3",
   "version": "3.6.0"
  }
 },
 "nbformat": 4,
 "nbformat_minor": 2
}
