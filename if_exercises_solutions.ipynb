{
 "cells": [
  {
   "cell_type": "markdown",
   "metadata": {},
   "source": [
    "## If Statements - Exercises"
   ]
  },
  {
   "cell_type": "markdown",
   "metadata": {},
   "source": [
    "1) Ask the user to input a number. Print 'Good' if the number is less than 10 but not equal to 7. Otherwise, print \"Bad\"."
   ]
  },
  {
   "cell_type": "code",
   "execution_count": 24,
   "metadata": {},
   "outputs": [
    {
     "name": "stdout",
     "output_type": "stream",
     "text": [
      "Please input a number: 6\n",
      "Good\n"
     ]
    }
   ],
   "source": [
    "user_number = float(input(\"Please input a number: \"))\n",
    "\n",
    "if user_number < 10 and user_number != 7:\n",
    "    print(\"Good\")\n",
    "else:\n",
    "    print(\"Bad\")"
   ]
  },
  {
   "cell_type": "markdown",
   "metadata": {
    "collapsed": true
   },
   "source": [
    "2) Ask the user to input two numbers. Use an 'if' statement to tell the user which number is larger (or whether the two numbers are equal):"
   ]
  },
  {
   "cell_type": "code",
   "execution_count": 2,
   "metadata": {},
   "outputs": [
    {
     "name": "stdout",
     "output_type": "stream",
     "text": [
      "Please input a number: 3\n",
      "Please input another number: 3\n",
      "3.0 is equal to 3.0\n"
     ]
    }
   ],
   "source": [
    "user_number_1 = float(input(\"Please input a number: \"))\n",
    "user_number_2 = float(input(\"Please input another number: \"))\n",
    "\n",
    "if user_number_1 > user_number_2:\n",
    "    print(user_number_1, \"is greater than\", user_number_2)\n",
    "\n",
    "elif user_number_1 < user_number_2:\n",
    "    print(user_number_2, \"is greater than\", user_number_1)\n",
    "    \n",
    "else:\n",
    "    print(user_number_1, \"is equal to\", user_number_1)"
   ]
  },
  {
   "cell_type": "markdown",
   "metadata": {},
   "source": [
    "3) Ask the user to input their name. Create a list containing only the vowels in their name:"
   ]
  },
  {
   "cell_type": "code",
   "execution_count": 3,
   "metadata": {},
   "outputs": [
    {
     "name": "stdout",
     "output_type": "stream",
     "text": [
      "Please enter your name: Thomas\n",
      "['o', 'a']\n"
     ]
    }
   ],
   "source": [
    "user_name = input(\"Please enter your name: \")\n",
    "vowels_user_name = \"\" # To store the new name\n",
    "\n",
    "for letter in user_name:\n",
    "    if letter.lower() in \"aeiou\": # Checking all the letters (in lower case) against the vowels\n",
    "        vowels_user_name += letter\n",
    "\n",
    "vowels_user_name = list(vowels_user_name)\n",
    "\n",
    "print(vowels_user_name)"
   ]
  },
  {
   "cell_type": "markdown",
   "metadata": {},
   "source": [
    "4) Replace every 'e' and every 't' in the user's name with an 'a' and print the result:\n",
    "\n",
    "*(HINT: You will first need to change their name into a list (since individual letters in a string cannot be changed). Once you have completed the replacements, you will need to change the list back into a string to print it.)*"
   ]
  },
  {
   "cell_type": "code",
   "execution_count": 4,
   "metadata": {},
   "outputs": [
    {
     "name": "stdout",
     "output_type": "stream",
     "text": [
      "Ahomas\n"
     ]
    }
   ],
   "source": [
    "user_name_list = list(user_name) # As in the hint\n",
    "user_name_length = len(user_name)\n",
    "\n",
    "for i in range(user_name_length):\n",
    "    if user_name_list[i].lower() in \"et\":\n",
    "        user_name_list[i] = \"a\"\n",
    "        \n",
    "user_name_list[0] = user_name_list[0].upper() # Recapitalise the first letter (which may be necessary if it has been replaced.)\n",
    "\n",
    "# This next bit turns the list back into a string:\n",
    "user_name = \"\" # We will build the name back up again from nothing.\n",
    "for letter in user_name_list:\n",
    "    user_name += letter\n",
    "\n",
    "print(user_name)"
   ]
  },
  {
   "cell_type": "markdown",
   "metadata": {
    "collapsed": true
   },
   "source": [
    "5) Create a list containing the multiples of seven between 300 and 400 and a second list containing the multiples of four between 300 to 400. Use an 'if' statement to create a list containing only the numbers that appear in BOTH lists:"
   ]
  },
  {
   "cell_type": "code",
   "execution_count": 5,
   "metadata": {},
   "outputs": [
    {
     "name": "stdout",
     "output_type": "stream",
     "text": [
      "[308, 336, 364, 392]\n"
     ]
    }
   ],
   "source": [
    "# Not sure what the first multiple of 7 greater than 300 is...\n",
    "# ... so let's start counting from 0 in 7s...\n",
    "# ... and only add to our first list when we pass 300.\n",
    "# Then we stop if we pass 400:\n",
    "\n",
    "list_1 = []\n",
    "\n",
    "value = 0\n",
    "while value < 400:\n",
    "    if value > 300:\n",
    "        list_1.append(value)\n",
    "    value += 7\n",
    "\n",
    "# We can use the same method for the second list:\n",
    "    \n",
    "list_2 = []\n",
    "\n",
    "value = 0\n",
    "while value < 400:\n",
    "    if value > 300:\n",
    "        list_2.append(value)\n",
    "    value += 4\n",
    "\n",
    "# Finally, go through the first list, checking every item agains the second:\n",
    "    \n",
    "final_list = []    \n",
    "\n",
    "for i in list_1:\n",
    "    if i in list_2:\n",
    "        final_list.append(i)\n",
    "\n",
    "print(final_list)"
   ]
  },
  {
   "cell_type": "markdown",
   "metadata": {
    "collapsed": true
   },
   "source": [
    "7) Create a list containing all the years of the 21st century. Use an 'if' statement to remove all years that contain the digit '7':\n",
    "\n",
    "*(HINT: You will need to think about different data types...)*"
   ]
  },
  {
   "cell_type": "code",
   "execution_count": 6,
   "metadata": {},
   "outputs": [
    {
     "name": "stdout",
     "output_type": "stream",
     "text": [
      "[2000, 2001, 2002, 2003, 2004, 2005, 2006, 2008, 2009, 2010, 2011, 2012, 2013, 2014, 2015, 2016]\n"
     ]
    }
   ],
   "source": [
    "# There is debate over what the first year of the 21st century is.\n",
    "# Let's say we start at 2000:\n",
    "\n",
    "first_year = 2000\n",
    "this_year = 2017\n",
    "\n",
    "years21c = list(range(first_year,this_year + 1))\n",
    "years21c_copy = years21c[:]\n",
    "\n",
    "# [:] creates a copy of a list\n",
    "# It is important here, since if we were to remove items from the list we were looking through AS we were looking through it...\n",
    "# The loop would get confused.\n",
    "# (For example, replace years21c_copy in the loop below with years21c and replace '7' with '1'...\n",
    "# Can you see what has gone wrong?)\n",
    "# Therefore, we look through a copy of the list and remove from the original list.\n",
    "\n",
    "for year in years21c_copy:\n",
    "    str_year = str(year)\n",
    "    if '7' in str_year:\n",
    "        years21c.remove(year)\n",
    "\n",
    "print(years21c)"
   ]
  },
  {
   "cell_type": "markdown",
   "metadata": {
    "collapsed": true
   },
   "source": [
    "### BONUS CHALLENGE QUESTIONS"
   ]
  },
  {
   "cell_type": "markdown",
   "metadata": {},
   "source": [
    "11) Create a guessing game where the user has to guess a secret number.\n",
    "After every guess the algorithm tells the user whether their number was too large or too small.\n",
    "At the end the number of guesses used should be printed."
   ]
  },
  {
   "cell_type": "code",
   "execution_count": 15,
   "metadata": {},
   "outputs": [
    {
     "name": "stdout",
     "output_type": "stream",
     "text": [
      "Please enter your next guess: 50\n",
      "Too small!\n",
      "Please enter your next guess: 75\n",
      "Too small!\n",
      "Please enter your next guess: 85\n",
      "Too large!\n",
      "Please enter your next guess: 80\n",
      "Too large!\n",
      "Please enter your next guess: 77\n",
      "Correct!\n",
      "Number of guesses: 5\n"
     ]
    }
   ],
   "source": [
    "# We'll suppose we're only working with integers.\n",
    "\n",
    "# Let's choose our secret number from 1 to 100:\n",
    "secret_number = rn.randint(1,100)\n",
    "\n",
    "user_guess = -1 # Setting an initial value that definitely is not right.\n",
    "guess_count = 0\n",
    "\n",
    "while user_guess != secret_number: # Keep asking for guesses while the guesses are not correct.\n",
    "    \n",
    "    user_guess = int(input(\"Please enter your next guess: \"))\n",
    "    \n",
    "    if user_guess > secret_number:\n",
    "        print(\"Too large!\")\n",
    "    elif user_guess < secret_number:\n",
    "        print(\"Too small!\")\n",
    "    else:\n",
    "        print(\"Correct!\")\n",
    "\n",
    "    guess_count += 1\n",
    "\n",
    "print(\"Number of guesses:\", guess_count)"
   ]
  },
  {
   "cell_type": "markdown",
   "metadata": {},
   "source": [
    "12) Ask the user to input a word. Report on whether the word is a palindrome (i.e. written the same backwards as forwards, like the word “level”):\n"
   ]
  },
  {
   "cell_type": "code",
   "execution_count": 23,
   "metadata": {},
   "outputs": [
    {
     "name": "stdout",
     "output_type": "stream",
     "text": [
      "Please enter a word: Redivider\n",
      "Redivider is a palindrome.\n"
     ]
    }
   ],
   "source": [
    "user_word = input(\"Please enter a word: \")\n",
    "user_word_length = len(user_word)\n",
    "\n",
    "# Create a lower case version of the word (so that capitals will not be considered different letters):\n",
    "user_word_l = user_word.lower()\n",
    "\n",
    "# Build up a reversed version of the word...\n",
    "user_word_backwards = \"\"\n",
    "for letter in user_word_l:\n",
    "    user_word_backwards = letter + user_word_backwards # by adding each letter of the original word to the start in turn.\n",
    "\n",
    "# Assume it is a palindrome until proven otherwise:\n",
    "is_palindrome = True\n",
    "\n",
    "# Go through each letter of both forwards and backwards versions in pairs and compare them.\n",
    "for i in range(user_word_length):\n",
    "    \n",
    "    if user_word_l[i] != user_word_backwards[i]: # If some pair is not equal...\n",
    "        is_palindrome = False # ... it is not a palindrome...\n",
    "        \n",
    "        # So end the loop:\n",
    "        break\n",
    "\n",
    "# Report back:\n",
    "\n",
    "if is_palindrome == True:\n",
    "    print(user_word, \"is a palindrome.\")\n",
    "\n",
    "else:\n",
    "    print(user_word, \"is not a palindrome.\")"
   ]
  },
  {
   "cell_type": "markdown",
   "metadata": {},
   "source": [
    "(Some of these questions were adapted from the creative commons page: adriann.github.io)"
   ]
  },
  {
   "cell_type": "markdown",
   "metadata": {},
   "source": [
    "If you finish these questions, work through the \"Conditional Statements and Loops\" exercises from http://www.w3resource.com/python-exercises."
   ]
  }
 ],
 "metadata": {
  "kernelspec": {
   "display_name": "Python 3",
   "language": "python",
   "name": "python3"
  },
  "language_info": {
   "codemirror_mode": {
    "name": "ipython",
    "version": 3
   },
   "file_extension": ".py",
   "mimetype": "text/x-python",
   "name": "python",
   "nbconvert_exporter": "python",
   "pygments_lexer": "ipython3",
   "version": "3.6.5"
  }
 },
 "nbformat": 4,
 "nbformat_minor": 1
}
