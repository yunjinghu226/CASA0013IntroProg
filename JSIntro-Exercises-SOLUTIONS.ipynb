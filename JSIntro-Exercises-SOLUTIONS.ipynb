{
 "cells": [
  {
   "cell_type": "markdown",
   "metadata": {},
   "source": [
    "# Some Brief JS Exercises"
   ]
  },
  {
   "cell_type": "markdown",
   "metadata": {},
   "source": [
    "Create a string and print it out to the JS console"
   ]
  },
  {
   "cell_type": "code",
   "execution_count": null,
   "metadata": {
    "collapsed": false
   },
   "outputs": [],
   "source": [
    "%%javascript\n",
    "\n",
    "var myString = \"a string!\";\n",
    "console.log(myString);"
   ]
  },
  {
   "cell_type": "markdown",
   "metadata": {},
   "source": [
    "Create a number and print it out using Python"
   ]
  },
  {
   "cell_type": "code",
   "execution_count": null,
   "metadata": {
    "collapsed": false
   },
   "outputs": [],
   "source": [
    "%%javascript\n",
    "\n",
    "var myNum = 5;\n",
    "IPython.notebook.kernel.execute('pyNum=\"' + myNum + '\";');"
   ]
  },
  {
   "cell_type": "code",
   "execution_count": null,
   "metadata": {
    "collapsed": false
   },
   "outputs": [],
   "source": [
    "print(pyNum)"
   ]
  },
  {
   "cell_type": "markdown",
   "metadata": {},
   "source": [
    "Use only the following variables to generate the given outputs:\n",
    "* a = 100\n",
    "* b = 3\n",
    "* c = \"50\"\n",
    "    \n",
    "Output: 10350"
   ]
  },
  {
   "cell_type": "code",
   "execution_count": null,
   "metadata": {
    "collapsed": false
   },
   "outputs": [],
   "source": [
    "%%javascript\n",
    "\n",
    "var a = 100, b = 3, c = \"50\";\n",
    "console.log(a + b + c)"
   ]
  },
  {
   "cell_type": "markdown",
   "metadata": {},
   "source": [
    "Output: 100503"
   ]
  },
  {
   "cell_type": "code",
   "execution_count": null,
   "metadata": {
    "collapsed": false
   },
   "outputs": [],
   "source": [
    "%%javascript\n",
    "\n",
    "var a = 100, b = 3, c = \"50\";\n",
    "console.log(a +  c + b)"
   ]
  },
  {
   "cell_type": "markdown",
   "metadata": {},
   "source": [
    "Output: 250"
   ]
  },
  {
   "cell_type": "code",
   "execution_count": null,
   "metadata": {
    "collapsed": false
   },
   "outputs": [],
   "source": [
    "%%javascript\n",
    "\n",
    "var a = 100, b = 3, c = \"50\";\n",
    "console.log(a + b * c)"
   ]
  },
  {
   "cell_type": "markdown",
   "metadata": {},
   "source": [
    "Modify the code below by, in one line, creating a boolean variable called \"canIVote\" which is TRUE if myAge is greater than 18 and FALSE otherwise."
   ]
  },
  {
   "cell_type": "code",
   "execution_count": null,
   "metadata": {
    "collapsed": false
   },
   "outputs": [],
   "source": [
    "%%javascript\n",
    "\n",
    "var myAge = 16;\n",
    "var canIVote = (myAge > 18) ? true : false;"
   ]
  },
  {
   "cell_type": "markdown",
   "metadata": {},
   "source": [
    "Create a function which\n",
    "\n",
    "1. takes input\n",
    "2. prints that input\n",
    "3. returns the input as a string with the phrase \"you typed: \" appended to the beginning"
   ]
  },
  {
   "cell_type": "code",
   "execution_count": null,
   "metadata": {
    "collapsed": false
   },
   "outputs": [],
   "source": [
    "%%javascript\n",
    "\n",
    "function myReporter(myInput){\n",
    "    console.log(myInput);\n",
    "    return \"you typed: \" + myInput;\n",
    "}\n",
    "\n",
    "var dummyOutput = myReporter(\"Hello, there!\");\n",
    "console.log(dummyOutput)"
   ]
  },
  {
   "cell_type": "markdown",
   "metadata": {},
   "source": [
    "Expand upon the function above by returning either 10x the value (if the value you passed was a number) or else the string \"that was not a number\""
   ]
  },
  {
   "cell_type": "code",
   "execution_count": null,
   "metadata": {
    "collapsed": false
   },
   "outputs": [],
   "source": [
    "%%javascript\n",
    "\n",
    "function myReporter(myInput){\n",
    "    var myVar = Number(myInput);\n",
    "    if(isNaN(myVar))\n",
    "        return \"That was not a number\";\n",
    "    else\n",
    "        return 10 * myVar;\n",
    "}\n",
    "\n",
    "var dummyOutput = myReporter(1);\n",
    "console.log(dummyOutput)\n",
    "\n",
    "dummyOutput = myReporter(\"12\");\n",
    "console.log(dummyOutput)\n",
    "\n",
    "dummyOutput = myReporter(\"-12\");\n",
    "console.log(dummyOutput)\n",
    "\n",
    "dummyOutput = myReporter(\"ohhohoho\");\n",
    "console.log(dummyOutput)"
   ]
  }
 ],
 "metadata": {
  "kernelspec": {
   "display_name": "Python 3",
   "language": "python",
   "name": "python3"
  },
  "language_info": {
   "codemirror_mode": {
    "name": "ipython",
    "version": 3
   },
   "file_extension": ".py",
   "mimetype": "text/x-python",
   "name": "python",
   "nbconvert_exporter": "python",
   "pygments_lexer": "ipython3",
   "version": "3.6.0"
  }
 },
 "nbformat": 4,
 "nbformat_minor": 2
}
