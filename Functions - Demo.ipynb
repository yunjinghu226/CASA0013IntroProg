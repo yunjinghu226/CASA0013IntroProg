{
 "cells": [
  {
   "cell_type": "markdown",
   "metadata": {},
   "source": [
    "# Functions"
   ]
  },
  {
   "cell_type": "markdown",
   "metadata": {},
   "source": [
    "## Syntax"
   ]
  },
  {
   "cell_type": "code",
   "execution_count": 8,
   "metadata": {
    "collapsed": true
   },
   "outputs": [],
   "source": [
    "#Look on the screen and type with me!"
   ]
  },
  {
   "cell_type": "code",
   "execution_count": 10,
   "metadata": {},
   "outputs": [],
   "source": [
    "# Write your first Hello World function\n",
    "def printMessage():\n",
    "    print(\"Hello World\")\n",
    "    return"
   ]
  },
  {
   "cell_type": "code",
   "execution_count": 11,
   "metadata": {},
   "outputs": [
    {
     "name": "stdout",
     "output_type": "stream",
     "text": [
      "Hello World\n"
     ]
    }
   ],
   "source": [
    "printMessage()"
   ]
  },
  {
   "cell_type": "markdown",
   "metadata": {
    "collapsed": true
   },
   "source": [
    "## Use "
   ]
  },
  {
   "cell_type": "code",
   "execution_count": 12,
   "metadata": {},
   "outputs": [],
   "source": [
    "def doSomeStuff():\n",
    "    print('.... doing something else ....')"
   ]
  },
  {
   "cell_type": "code",
   "execution_count": 13,
   "metadata": {},
   "outputs": [],
   "source": [
    "def getFreeCoffee():\n",
    "    print('--------')\n",
    "    print('Shoosh,shoosh')\n",
    "    print('*AMERICANO*')\n",
    "    print('--------')"
   ]
  },
  {
   "cell_type": "markdown",
   "metadata": {},
   "source": [
    "### Why is it useful?"
   ]
  },
  {
   "cell_type": "markdown",
   "metadata": {},
   "source": [
    "### So you don't repeat yourself!"
   ]
  },
  {
   "cell_type": "code",
   "execution_count": 14,
   "metadata": {},
   "outputs": [
    {
     "name": "stdout",
     "output_type": "stream",
     "text": [
      ".... doing something else ....\n",
      "--------\n",
      "Shoosh,shoosh\n",
      "*AMERICANO*\n",
      "--------\n",
      ".... doing something else ....\n"
     ]
    }
   ],
   "source": [
    "# Say you want to get coffee before and after a task\n",
    "doSomeStuff()\n",
    "getFreeCoffee()\n",
    "doSomeStuff()"
   ]
  },
  {
   "cell_type": "code",
   "execution_count": null,
   "metadata": {
    "collapsed": true
   },
   "outputs": [],
   "source": [
    "####################################################################"
   ]
  },
  {
   "cell_type": "markdown",
   "metadata": {},
   "source": [
    "## Function Parameters"
   ]
  },
  {
   "cell_type": "code",
   "execution_count": 1,
   "metadata": {},
   "outputs": [],
   "source": [
    "# Get a coffee of your choice\n",
    "def getCoffee(coffee):\n",
    "    order = \"*\" + coffee.upper() + \"*\"\n",
    "    print('--------')\n",
    "    print('Shoosh,shoosh')\n",
    "    print(order)\n",
    "    print('--------')"
   ]
  },
  {
   "cell_type": "code",
   "execution_count": 2,
   "metadata": {},
   "outputs": [
    {
     "name": "stdout",
     "output_type": "stream",
     "text": [
      "--------\n",
      "Shoosh,shoosh\n",
      "*CAPPUCCINO*\n",
      "--------\n"
     ]
    }
   ],
   "source": [
    "getCoffee(\"cappuccino\")"
   ]
  },
  {
   "cell_type": "markdown",
   "metadata": {},
   "source": [
    "**Geek tip**: `pass` is often used as a placeholder in places where your code will eventually go, but has not been written yet. "
   ]
  },
  {
   "cell_type": "code",
   "execution_count": 18,
   "metadata": {},
   "outputs": [],
   "source": [
    "# Choose milk for your coffee\n",
    "def getCoffeeWithMilk(coffee, milk = \"whole milk\"):\n",
    "    order = \"*\" + coffee.upper() + \" with \" + milk + \"*\"\n",
    "    print('--------')\n",
    "    print('Shoosh,shoosh')\n",
    "    print(order)\n",
    "    print('--------')"
   ]
  },
  {
   "cell_type": "code",
   "execution_count": 19,
   "metadata": {},
   "outputs": [
    {
     "name": "stdout",
     "output_type": "stream",
     "text": [
      "--------\n",
      "Shoosh,shoosh\n",
      "*CAPPUCCINO with whole milk*\n",
      "--------\n"
     ]
    }
   ],
   "source": [
    "getCoffeeWithMilk(\"cappuccino\")"
   ]
  },
  {
   "cell_type": "code",
   "execution_count": 20,
   "metadata": {},
   "outputs": [
    {
     "name": "stdout",
     "output_type": "stream",
     "text": [
      "--------\n",
      "Shoosh,shoosh\n",
      "*CAPPUCCINO with soya milk*\n",
      "--------\n"
     ]
    }
   ],
   "source": [
    "getCoffeeWithMilk(\"cappuccino\",\"soya milk\")"
   ]
  },
  {
   "cell_type": "code",
   "execution_count": 21,
   "metadata": {},
   "outputs": [
    {
     "name": "stdout",
     "output_type": "stream",
     "text": [
      "--------\n",
      "Shoosh,shoosh\n",
      "*CAPPUCCINO with soya milk*\n",
      "--------\n"
     ]
    }
   ],
   "source": [
    "getCoffeeWithMilk(\"cappuccino\",milk=\"soya milk\")"
   ]
  },
  {
   "cell_type": "markdown",
   "metadata": {},
   "source": [
    "### Notice: \n",
    "Default arguments lets your code run, but allows allows for customisation"
   ]
  },
  {
   "cell_type": "code",
   "execution_count": 22,
   "metadata": {
    "collapsed": true
   },
   "outputs": [],
   "source": [
    "####################################################################"
   ]
  },
  {
   "cell_type": "markdown",
   "metadata": {},
   "source": [
    "## Function outputs"
   ]
  },
  {
   "cell_type": "code",
   "execution_count": 22,
   "metadata": {},
   "outputs": [],
   "source": [
    "# Collect coffee order\n",
    "def getOrder(coffee, milk=\"whole milk\"):\n",
    "    order = \"*\" + coffee.upper() + \" with \" + milk + \"*\"\n",
    "    return order"
   ]
  },
  {
   "cell_type": "code",
   "execution_count": 24,
   "metadata": {},
   "outputs": [],
   "source": [
    "order = getOrder('cappuccino','goats milk')"
   ]
  },
  {
   "cell_type": "code",
   "execution_count": 25,
   "metadata": {},
   "outputs": [
    {
     "name": "stdout",
     "output_type": "stream",
     "text": [
      "*CAPPUCCINO with goats milk*\n"
     ]
    }
   ],
   "source": [
    "print(order)"
   ]
  },
  {
   "cell_type": "code",
   "execution_count": 26,
   "metadata": {},
   "outputs": [],
   "source": [
    "# Prepare coffee order\n",
    "def prepareOrder(order):\n",
    "    print('--------')\n",
    "    print('Shoosh,shoosh')\n",
    "    print(order)\n",
    "    print('--------')"
   ]
  },
  {
   "cell_type": "code",
   "execution_count": 27,
   "metadata": {},
   "outputs": [
    {
     "name": "stdout",
     "output_type": "stream",
     "text": [
      "--------\n",
      "Shoosh,shoosh\n",
      "*CAPPUCCINO with goats milk*\n",
      "--------\n"
     ]
    }
   ],
   "source": [
    "prepareOrder(order)"
   ]
  },
  {
   "cell_type": "code",
   "execution_count": null,
   "metadata": {
    "collapsed": true
   },
   "outputs": [],
   "source": [
    "####################################################################"
   ]
  },
  {
   "cell_type": "markdown",
   "metadata": {},
   "source": [
    "## Namespaces"
   ]
  },
  {
   "cell_type": "markdown",
   "metadata": {},
   "source": [
    "Name Spaces Continued..."
   ]
  },
  {
   "cell_type": "code",
   "execution_count": 28,
   "metadata": {},
   "outputs": [],
   "source": [
    "def getOrder(coffee, milk=\"whole milk\"):\n",
    "    order = \"*\" + coffee.upper() + \" with \" + milk + \"*\"\n",
    "    return order"
   ]
  },
  {
   "cell_type": "code",
   "execution_count": 32,
   "metadata": {},
   "outputs": [
    {
     "ename": "NameError",
     "evalue": "name 'milk' is not defined",
     "output_type": "error",
     "traceback": [
      "\u001b[0;31m---------------------------------------------------------------------------\u001b[0m",
      "\u001b[0;31mNameError\u001b[0m                                 Traceback (most recent call last)",
      "\u001b[0;32m<ipython-input-32-2bed04f92926>\u001b[0m in \u001b[0;36m<module>\u001b[0;34m()\u001b[0m\n\u001b[1;32m      1\u001b[0m \u001b[0mmyOrder\u001b[0m \u001b[0;34m=\u001b[0m \u001b[0mgetOrder\u001b[0m\u001b[0;34m(\u001b[0m\u001b[0;34m\"Cappucino\"\u001b[0m\u001b[0;34m)\u001b[0m\u001b[0;34m\u001b[0m\u001b[0m\n\u001b[0;32m----> 2\u001b[0;31m \u001b[0mprint\u001b[0m\u001b[0;34m(\u001b[0m\u001b[0mmilk\u001b[0m\u001b[0;34m)\u001b[0m\u001b[0;34m\u001b[0m\u001b[0m\n\u001b[0m",
      "\u001b[0;31mNameError\u001b[0m: name 'milk' is not defined"
     ]
    }
   ],
   "source": [
    "myOrder = getOrder(\"Cappucino\")\n",
    "print(milk)"
   ]
  },
  {
   "cell_type": "code",
   "execution_count": 33,
   "metadata": {},
   "outputs": [
    {
     "ename": "NameError",
     "evalue": "name 'milk' is not defined",
     "output_type": "error",
     "traceback": [
      "\u001b[0;31m---------------------------------------------------------------------------\u001b[0m",
      "\u001b[0;31mNameError\u001b[0m                                 Traceback (most recent call last)",
      "\u001b[0;32m<ipython-input-33-190cba6672e8>\u001b[0m in \u001b[0;36m<module>\u001b[0;34m()\u001b[0m\n\u001b[1;32m      1\u001b[0m \u001b[0mmyOrder\u001b[0m \u001b[0;34m=\u001b[0m \u001b[0mgetOrder\u001b[0m\u001b[0;34m(\u001b[0m\u001b[0;34m\"Cappucino\"\u001b[0m\u001b[0;34m,\u001b[0m \u001b[0mmilk\u001b[0m \u001b[0;34m=\u001b[0m \u001b[0;34m'almond milk'\u001b[0m\u001b[0;34m)\u001b[0m\u001b[0;34m\u001b[0m\u001b[0m\n\u001b[0;32m----> 2\u001b[0;31m \u001b[0mprint\u001b[0m\u001b[0;34m(\u001b[0m\u001b[0mmilk\u001b[0m\u001b[0;34m)\u001b[0m\u001b[0;34m\u001b[0m\u001b[0m\n\u001b[0m",
      "\u001b[0;31mNameError\u001b[0m: name 'milk' is not defined"
     ]
    }
   ],
   "source": [
    "myOrder = getOrder(\"Cappucino\", milk = 'almond milk')\n",
    "print(milk)"
   ]
  },
  {
   "cell_type": "code",
   "execution_count": 34,
   "metadata": {},
   "outputs": [
    {
     "name": "stdout",
     "output_type": "stream",
     "text": [
      "almond milk\n"
     ]
    }
   ],
   "source": [
    "milk = 'almond milk'\n",
    "myOrder = getOrder(\"Cappucino\", milk = milk)\n",
    "print(milk)"
   ]
  }
 ],
 "metadata": {
  "kernelspec": {
   "display_name": "Python 3",
   "language": "python",
   "name": "python3"
  },
  "language_info": {
   "codemirror_mode": {
    "name": "ipython",
    "version": 3
   },
   "file_extension": ".py",
   "mimetype": "text/x-python",
   "name": "python",
   "nbconvert_exporter": "python",
   "pygments_lexer": "ipython3",
   "version": "3.6.5"
  }
 },
 "nbformat": 4,
 "nbformat_minor": 2
}
