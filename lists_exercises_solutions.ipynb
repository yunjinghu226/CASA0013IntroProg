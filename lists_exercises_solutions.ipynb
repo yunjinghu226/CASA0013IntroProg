{
 "cells": [
  {
   "cell_type": "markdown",
   "metadata": {},
   "source": [
    "# Lists - Exercises"
   ]
  },
  {
   "cell_type": "markdown",
   "metadata": {},
   "source": [
    "1) Create a code cell below this cell and write some code to print your name:"
   ]
  },
  {
   "cell_type": "code",
   "execution_count": 45,
   "metadata": {},
   "outputs": [
    {
     "name": "stdout",
     "output_type": "stream",
     "text": [
      "Thomas\n"
     ]
    }
   ],
   "source": [
    "print(\"Thomas\")"
   ]
  },
  {
   "cell_type": "markdown",
   "metadata": {},
   "source": [
    "2) Create, store and print a list containing the answers to these three calculations:\n",
    "\n",
    "- 17 multiplied by 3\n",
    "- 8.2 divided by 5\n",
    "- 7.1 to the power 3"
   ]
  },
  {
   "cell_type": "code",
   "execution_count": 46,
   "metadata": {},
   "outputs": [
    {
     "name": "stdout",
     "output_type": "stream",
     "text": [
      "[51, 1.64, 357.91099999999994]\n"
     ]
    }
   ],
   "source": [
    "this_list = [17*3, 8.2/5, 7.1**3]\n",
    "print(this_list)"
   ]
  },
  {
   "cell_type": "markdown",
   "metadata": {},
   "source": [
    "3) Create and store a list containing all the years of your lifetime (use the 'range' function). Using this list, print the third year of your lifetime:"
   ]
  },
  {
   "cell_type": "code",
   "execution_count": 47,
   "metadata": {},
   "outputs": [
    {
     "name": "stdout",
     "output_type": "stream",
     "text": [
      "1986\n"
     ]
    }
   ],
   "source": [
    "year_born = 1984\n",
    "this_year = 2017\n",
    "life_years = list(range(year_born,this_year + 1))\n",
    "print(life_years[2])"
   ]
  },
  {
   "cell_type": "markdown",
   "metadata": {},
   "source": [
    "4) Create and store a list containing all the leap years of your lifetime:"
   ]
  },
  {
   "cell_type": "code",
   "execution_count": 49,
   "metadata": {},
   "outputs": [
    {
     "name": "stdout",
     "output_type": "stream",
     "text": [
      "[1984, 1988, 1992, 1996, 2000, 2004, 2008, 2012, 2016]\n"
     ]
    }
   ],
   "source": [
    "first_leap_year_of_my_life = 1984\n",
    "this_year = 2017\n",
    "leap_years = list(range(first_leap_year_of_my_life,this_year + 1,4))\n",
    "print(leap_years)"
   ]
  },
  {
   "cell_type": "markdown",
   "metadata": {
    "collapsed": true
   },
   "source": [
    "5) Create a list of the multiples of three from 30 to 50. Print the average of the minimum and the maximum of this list."
   ]
  },
  {
   "cell_type": "code",
   "execution_count": 50,
   "metadata": {},
   "outputs": [
    {
     "name": "stdout",
     "output_type": "stream",
     "text": [
      "39.0\n"
     ]
    }
   ],
   "source": [
    "q5_list = list(range(30,50,3))\n",
    "min_list = min(q5_list)\n",
    "max_list = max(q5_list)\n",
    "av_min_max = (min_list + max_list)/2\n",
    "print(av_min_max)"
   ]
  },
  {
   "cell_type": "markdown",
   "metadata": {
    "collapsed": true
   },
   "source": [
    "6) Cut down the list created in Question 4 to include only years between 1999 and 2010. Store this new list under a new name. Replace one of the years with the word \"fridge\". Print the result:"
   ]
  },
  {
   "cell_type": "code",
   "execution_count": 51,
   "metadata": {},
   "outputs": [
    {
     "name": "stdout",
     "output_type": "stream",
     "text": [
      "[2000, 'fridge', 2008]\n"
     ]
    }
   ],
   "source": [
    "cutdown_leap_years = leap_years[4:7]\n",
    "cutdown_leap_years[1] = \"fridge\"\n",
    "print(cutdown_leap_years)"
   ]
  },
  {
   "cell_type": "markdown",
   "metadata": {
    "collapsed": true
   },
   "source": [
    "7) Create a list of the letters in your name. Sort the list into alphabetical order (using the 'sort' function). Choose one of the letters and remove it. Print the result:"
   ]
  },
  {
   "cell_type": "code",
   "execution_count": 52,
   "metadata": {},
   "outputs": [
    {
     "name": "stdout",
     "output_type": "stream",
     "text": [
      "['h', 'm', 'o', 's', 't']\n"
     ]
    }
   ],
   "source": [
    "my_name = \"Thomas\"\n",
    "my_name = my_name.lower() # Makes all the letters lower case (Check what happens without this line)\n",
    "name_list = list(my_name)\n",
    "name_list.sort()\n",
    "name_list.remove(\"a\")\n",
    "print(name_list)"
   ]
  },
  {
   "cell_type": "markdown",
   "metadata": {
    "collapsed": true
   },
   "source": [
    "8) Create a list containing **all the items in all the lists** you have made so far.\n",
    "\n",
    "Then create a list of **all the lists** you have made so far (i.e. each item in this list should be a list you created earlier).\n",
    "\n",
    "Print the difference between the lengths of the two lists."
   ]
  },
  {
   "cell_type": "code",
   "execution_count": 53,
   "metadata": {},
   "outputs": [
    {
     "name": "stdout",
     "output_type": "stream",
     "text": [
      "55\n"
     ]
    }
   ],
   "source": [
    "big_list = this_list + life_years + leap_years + q5_list + cutdown_leap_years + name_list\n",
    "list_of_lists = [this_list, life_years, leap_years, q5_list, cutdown_leap_years, name_list]\n",
    "\n",
    "len_big_list = len(big_list)\n",
    "len_list_of_lists = len(list_of_lists)\n",
    "\n",
    "difference = abs(len_big_list - len_list_of_lists)\n",
    "\n",
    "# Note that abs() returns the absolute value\n",
    "# (i.e. no negatives: abs(7) = 7, abs(-7) = 7)\n",
    "\n",
    "print(difference)"
   ]
  },
  {
   "cell_type": "markdown",
   "metadata": {},
   "source": [
    "9) Ask the user for their year of birth (using the 'input' function). Then print a list of all the leap years of their lifetime:"
   ]
  },
  {
   "cell_type": "code",
   "execution_count": 54,
   "metadata": {},
   "outputs": [
    {
     "name": "stdout",
     "output_type": "stream",
     "text": [
      "What is your year of birth? 1984\n",
      "[1984, 1988, 1992, 1996, 2000, 2004, 2008, 2012, 2016]\n"
     ]
    }
   ],
   "source": [
    "# Using only the Python knowledge we have so far, this is actually quite a tough question!\n",
    "# The complication is that we need the code to work, whether or not the birth year is a leap year.\n",
    "# However, we can sidestep this issue by working backward from the most recent leap year.\n",
    "\n",
    "user_birth_year = input(\"What is your year of birth? \")\n",
    "user_birth_year = int(user_birth_year) # To tell Python that the input is a number...\n",
    "\n",
    "most_recent_leap_year = 2016\n",
    "\n",
    "user_leap_years = list(range(most_recent_leap_year,user_birth_year - 1,-4))\n",
    "# The last -4 says we're counting back in 4s (from 2016)\n",
    "# In 'user_birth_year - 1', the - 1 is necessary because range() never includes the final value it reaches.\n",
    "\n",
    "user_leap_years.sort() # Sort back into chronological order.\n",
    "\n",
    "print(user_leap_years)"
   ]
  },
  {
   "cell_type": "markdown",
   "metadata": {
    "collapsed": true
   },
   "source": [
    "10) Ask the user to input any year since 2000. By referring to the list you created in Question 3, print the sentence: 'YEAR was the Xth year of my life.' (with the correct values for YEAR and X)"
   ]
  },
  {
   "cell_type": "code",
   "execution_count": 55,
   "metadata": {},
   "outputs": [
    {
     "name": "stdout",
     "output_type": "stream",
     "text": [
      "Input any year since 2000: 2003\n",
      "2003 was the 19th year of my life.\n"
     ]
    }
   ],
   "source": [
    "user_year = input(\"Input any year since 2000: \")\n",
    "user_year = int(user_year)\n",
    "year_number = life_years.index(user_year)\n",
    "print(str(user_year) + \" was the \" + str(year_number) + \"th year of my life.\")"
   ]
  },
  {
   "cell_type": "markdown",
   "metadata": {},
   "source": [
    "For more practice, try Exercise 1 from http://www.practicepython.org and read through https://docs.python.org/3/tutorial/introduction.html."
   ]
  },
  {
   "cell_type": "code",
   "execution_count": null,
   "metadata": {
    "collapsed": true
   },
   "outputs": [],
   "source": []
  }
 ],
 "metadata": {
  "kernelspec": {
   "display_name": "Python 3",
   "language": "python",
   "name": "python3"
  },
  "language_info": {
   "codemirror_mode": {
    "name": "ipython",
    "version": 3
   },
   "file_extension": ".py",
   "mimetype": "text/x-python",
   "name": "python",
   "nbconvert_exporter": "python",
   "pygments_lexer": "ipython3",
   "version": "3.6.5"
  }
 },
 "nbformat": 4,
 "nbformat_minor": 1
}
