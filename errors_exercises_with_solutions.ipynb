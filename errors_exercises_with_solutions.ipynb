{
 "cells": [
  {
   "cell_type": "markdown",
   "metadata": {},
   "source": [
    "## Errors Challenge"
   ]
  },
  {
   "cell_type": "markdown",
   "metadata": {},
   "source": [
    "* Write code to open and read a file.\n",
    "* Allow the user to specify the file name.\n",
    "* Add error handling to provide a suitable error message if the file specified by the user could not be found."
   ]
  },
  {
   "cell_type": "code",
   "execution_count": 2,
   "metadata": {},
   "outputs": [],
   "source": [
    "import sys"
   ]
  },
  {
   "cell_type": "code",
   "execution_count": 7,
   "metadata": {},
   "outputs": [
    {
     "name": "stdout",
     "output_type": "stream",
     "text": [
      "Please specify the file name: zoo.csv\n",
      "animal,unique_id,water_need\n",
      "elephant, 1001, 500\n",
      "elephant, 1002, 600\n",
      "tiger, 1003,300\n",
      "tiger, 1004, 350\n",
      "tiger, 1005, 330\n",
      "kangaroo, 1006, 410\n",
      "monkey, 1007, 220\n",
      "\n"
     ]
    }
   ],
   "source": [
    "filename = input(\"Please specify the file name: \")\n",
    "\n",
    "try:\n",
    "    with open(filename,'r') as infile:\n",
    "        content = infile.read()\n",
    "        print(content)\n",
    "except FileNotFoundError:\n",
    "    print(\"The file specified could not be found.\")\n",
    "except Exception as e:\n",
    "    print(e)"
   ]
  },
  {
   "cell_type": "markdown",
   "metadata": {},
   "source": [
    "### That's it for Python part of the course."
   ]
  },
  {
   "cell_type": "markdown",
   "metadata": {},
   "source": [
    "### You are now officially a beginner Pythonista ;)"
   ]
  }
 ],
 "metadata": {
  "kernelspec": {
   "display_name": "Python 3",
   "language": "python",
   "name": "python3"
  },
  "language_info": {
   "codemirror_mode": {
    "name": "ipython",
    "version": 3
   },
   "file_extension": ".py",
   "mimetype": "text/x-python",
   "name": "python",
   "nbconvert_exporter": "python",
   "pygments_lexer": "ipython3",
   "version": "3.6.5"
  }
 },
 "nbformat": 4,
 "nbformat_minor": 2
}
