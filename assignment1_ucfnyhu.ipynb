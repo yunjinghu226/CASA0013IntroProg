{
  "cells": [
    {
      "metadata": {
        "trusted": true
      },
      "cell_type": "code",
      "source": "# 1. create a item list and print \nsell_list = ['howler','remembrall','sneakoscope','gobstones','broomstick']\nprint (sell_list)",
      "execution_count": 8,
      "outputs": [
        {
          "output_type": "stream",
          "text": "['howler', 'remembrall', 'sneakoscope', 'gobstones', 'broomstick']\n",
          "name": "stdout"
        }
      ]
    },
    {
      "metadata": {
        "trusted": true
      },
      "cell_type": "code",
      "source": "# 2. add two items to sell_list\nsell_list += ['thingy','whatsit']\nprint (sell_list)",
      "execution_count": 9,
      "outputs": [
        {
          "output_type": "stream",
          "text": "['howler', 'remembrall', 'sneakoscope', 'gobstones', 'broomstick', 'thingy', 'whatsit']\n",
          "name": "stdout"
        }
      ]
    },
    {
      "metadata": {
        "trusted": true
      },
      "cell_type": "code",
      "source": "# 3. remove an item from sell_list\nsell_list.remove('sneakoscope')\nprint (sell_list)",
      "execution_count": 10,
      "outputs": [
        {
          "output_type": "stream",
          "text": "['howler', 'remembrall', 'gobstones', 'broomstick', 'thingy', 'whatsit']\n",
          "name": "stdout"
        }
      ]
    },
    {
      "metadata": {
        "trusted": true
      },
      "cell_type": "code",
      "source": "# 4. ask for units customers wanna buy\ndef get_unit():\n    unit = int(input(\"How many do you want to have? \"))\n    print (\"You are going to buy \"+str(unit)+\" item(s)\")\n    print (\"Thank you!\")\nget_unit()",
      "execution_count": 4,
      "outputs": [
        {
          "output_type": "stream",
          "name": "stdout",
          "text": "How many do you want to have? 4\nYou are going to buy 4 item(s)\nThank you!\n"
        }
      ]
    },
    {
      "metadata": {
        "trusted": true
      },
      "cell_type": "code",
      "source": "# 5. calculate the money\ndef get_unit():\n    unit = int(input(\"How many do you want to have? \"))\n    print (\"You are going to buy \"+str(unit)+\" item(s)\")\n    print (\"Thank you!\")\n    return unit\n\ndef get_money():\n    money = 5*get_unit()\n    print (\"The total cost is \"+str(money))\nget_money()",
      "execution_count": 5,
      "outputs": [
        {
          "output_type": "stream",
          "name": "stdout",
          "text": "How many do you want to have? 5\nYou are going to buy 5 item(s)\nThank you!\nThe total cost is 25\n"
        }
      ]
    },
    {
      "metadata": {
        "trusted": true
      },
      "cell_type": "code",
      "source": "# 6. create an inventory of number of majigs, store inventory in a file\nitem_num = [4,7,2,8,6,0]\nsell_list = ['howler', 'remembrall', 'gobstones', 'broomstick', 'thingy', 'whatsit']\ninventory = [sell_list[i]+\",\"+str(item_num[i]) for i in range(6)]\nfor item in inventory:\n    print (item)\nwith open(\"item_inventory.txt\",\"w\") as item_inv:\n    for i in range(6):\n        item_inv.write(inventory[i]+\"\\n\")",
      "execution_count": 2,
      "outputs": [
        {
          "output_type": "stream",
          "text": "howler,4\nremembrall,7\ngobstones,2\nbroomstick,8\nthingy,6\nwhatsit,0\n",
          "name": "stdout"
        }
      ]
    },
    {
      "metadata": {
        "trusted": true
      },
      "cell_type": "code",
      "source": "# 7. go through inventory file and print out message for low stock items\nwith open(\"item_inventory.txt\",\"r\") as item_inv:\n    for i in range(6):\n        item = item_inv.readline()\n        if int(item[-2]) < 5 and int(item[-2]) != 0:\n            print (\"LOW inventory for \"+sell_list[i])\n        if int(item[-2]) == 0:\n            print (\"OUT of inventory for \"+sell_list[i])",
      "execution_count": 5,
      "outputs": [
        {
          "output_type": "stream",
          "text": "LOW inventory for howler\nLOW inventory for gobstones\nOUT of inventory for whatsit\n",
          "name": "stdout"
        }
      ]
    },
    {
      "metadata": {
        "slideshow": {
          "slide_type": "subslide"
        },
        "trusted": true
      },
      "cell_type": "code",
      "source": "# 8. store names into a file from user input, print out the list of names through calling function\nwith open(\"employee_names.txt\",\"w\") as employee:\n    name = \"\"\n    while name != \"DONE\":\n        name = input(\"Enter your name: \")\n        if name != \"DONE\":\n            employee.write(name+\"\\n\")",
      "execution_count": 36,
      "outputs": [
        {
          "output_type": "stream",
          "name": "stdout",
          "text": "Enter your name: adam\nEnter your name: bob\nEnter your name: charles\nEnter your name: DONE\n"
        }
      ]
    },
    {
      "metadata": {
        "trusted": true
      },
      "cell_type": "code",
      "source": "def employees():\n    with open(\"employee_names.txt\",\"r\") as names:\n        name_list = names.readlines()\n        name_rev = []\n        for name in name_list:\n            name = name.replace(\"\\n\",\"\")\n            name_rev.append(name)\n        print (name_rev)\nemployees()",
      "execution_count": 37,
      "outputs": [
        {
          "output_type": "stream",
          "text": "['adam', 'bob', 'charles']\n",
          "name": "stdout"
        }
      ]
    }
  ],
  "metadata": {
    "kernelspec": {
      "name": "python36",
      "display_name": "Python 3.6",
      "language": "python"
    },
    "language_info": {
      "mimetype": "text/x-python",
      "nbconvert_exporter": "python",
      "name": "python",
      "pygments_lexer": "ipython3",
      "version": "3.6.6",
      "file_extension": ".py",
      "codemirror_mode": {
        "version": 3,
        "name": "ipython"
      }
    }
  },
  "nbformat": 4,
  "nbformat_minor": 2
}