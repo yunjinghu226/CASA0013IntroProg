{
 "cells": [
  {
   "cell_type": "markdown",
   "metadata": {},
   "source": [
    "# For and While Loops"
   ]
  },
  {
   "cell_type": "markdown",
   "metadata": {},
   "source": [
    "### For loops"
   ]
  },
  {
   "cell_type": "markdown",
   "metadata": {},
   "source": [
    "Suppose you want to print name of all guests coming to your party"
   ]
  },
  {
   "cell_type": "code",
   "execution_count": 2,
   "metadata": {},
   "outputs": [],
   "source": [
    "guests = [\"Jack\", \"Ann\", \"Susie\", \"Adam\"]"
   ]
  },
  {
   "cell_type": "code",
   "execution_count": 4,
   "metadata": {},
   "outputs": [
    {
     "name": "stdout",
     "output_type": "stream",
     "text": [
      "Guest name: Jack\n",
      "Guest name: Ann\n",
      "Guest name: Susie\n",
      "Guest name: Adam\n"
     ]
    }
   ],
   "source": [
    "print(\"Guest name:\", guests[0])\n",
    "print(\"Guest name:\", guests[1])\n",
    "print(\"Guest name:\", guests[2])\n",
    "print(\"Guest name:\", guests[3])"
   ]
  },
  {
   "cell_type": "code",
   "execution_count": 6,
   "metadata": {},
   "outputs": [
    {
     "name": "stdout",
     "output_type": "stream",
     "text": [
      "Guest name: Jack\n",
      "Guest name: Ann\n",
      "Guest name: Susie\n",
      "Guest name: Adam\n"
     ]
    }
   ],
   "source": [
    "# We can use loops to repeat the same line of code as often as we want\n",
    "for guest in guests:\n",
    "    print(\"Guest name:\", guest)"
   ]
  },
  {
   "cell_type": "code",
   "execution_count": 7,
   "metadata": {},
   "outputs": [
    {
     "name": "stdout",
     "output_type": "stream",
     "text": [
      "Guest name: Jack\n",
      "Guest name: Ann\n",
      "Guest name: Susie\n",
      "Guest name: Adam\n",
      "All guest names have been printed.\n"
     ]
    }
   ],
   "source": [
    "# Only the indented code is repeated!\n",
    "for guest in guests:\n",
    "    print(\"Guest name:\", guest)\n",
    "print(\"All guest names have been printed.\")"
   ]
  },
  {
   "cell_type": "code",
   "execution_count": 9,
   "metadata": {},
   "outputs": [
    {
     "name": "stdout",
     "output_type": "stream",
     "text": [
      "Guest number 0 Jack\n",
      "Guest number 1 Ann\n",
      "Guest number 2 Susie\n",
      "Guest number 3 Adam\n",
      "All guest names have been printed.\n"
     ]
    }
   ],
   "source": [
    "# You can use the loop number using `enumerate`\n",
    "for i, guest in enumerate(guests):\n",
    "    print(\"Guest number\", i, guest)\n",
    "print(\"All guest names have been printed.\")"
   ]
  },
  {
   "cell_type": "markdown",
   "metadata": {},
   "source": [
    "Let's try another example..."
   ]
  },
  {
   "cell_type": "markdown",
   "metadata": {},
   "source": [
    "Suppose you have a list:"
   ]
  },
  {
   "cell_type": "code",
   "execution_count": 1,
   "metadata": {
    "collapsed": true
   },
   "outputs": [],
   "source": [
    "leap_years_20C = list(range(1904,2000,4))"
   ]
  },
  {
   "cell_type": "markdown",
   "metadata": {},
   "source": [
    "And you want to do something to every item in the list:"
   ]
  },
  {
   "cell_type": "code",
   "execution_count": 4,
   "metadata": {},
   "outputs": [
    {
     "name": "stdout",
     "output_type": "stream",
     "text": [
      "1904\n",
      "1908\n",
      "1912\n",
      "1916\n",
      "1920\n",
      "1924\n",
      "1928\n",
      "1932\n",
      "1936\n",
      "1940\n",
      "1944\n",
      "1948\n",
      "1952\n",
      "1956\n",
      "1960\n",
      "1964\n",
      "1968\n",
      "1972\n",
      "1976\n",
      "1980\n",
      "1984\n",
      "1988\n",
      "1992\n",
      "1996\n"
     ]
    }
   ],
   "source": [
    "# For example, say we want to print every item on a different line:\n",
    "\n",
    "print(leap_years_20C[0])\n",
    "print(leap_years_20C[1])\n",
    "print(leap_years_20C[2])\n",
    "print(leap_years_20C[3])\n",
    "print(leap_years_20C[4])\n",
    "print(leap_years_20C[5])\n",
    "print(leap_years_20C[6])\n",
    "print(leap_years_20C[7])\n",
    "print(leap_years_20C[8])\n",
    "print(leap_years_20C[9])\n",
    "print(leap_years_20C[10])\n",
    "print(leap_years_20C[11])\n",
    "print(leap_years_20C[12])\n",
    "print(leap_years_20C[13])\n",
    "print(leap_years_20C[14])\n",
    "print(leap_years_20C[15])\n",
    "print(leap_years_20C[16])\n",
    "print(leap_years_20C[17])\n",
    "print(leap_years_20C[18])\n",
    "print(leap_years_20C[19])\n",
    "print(leap_years_20C[20])\n",
    "print(leap_years_20C[21])\n",
    "print(leap_years_20C[22])\n",
    "print(leap_years_20C[23])"
   ]
  },
  {
   "cell_type": "code",
   "execution_count": 5,
   "metadata": {},
   "outputs": [
    {
     "name": "stdout",
     "output_type": "stream",
     "text": [
      "1904\n",
      "1908\n",
      "1912\n",
      "1916\n",
      "1920\n",
      "1924\n",
      "1928\n",
      "1932\n",
      "1936\n",
      "1940\n",
      "1944\n",
      "1948\n",
      "1952\n",
      "1956\n",
      "1960\n",
      "1964\n",
      "1968\n",
      "1972\n",
      "1976\n",
      "1980\n",
      "1984\n",
      "1988\n",
      "1992\n",
      "1996\n"
     ]
    }
   ],
   "source": [
    "# A for loop gives you a more efficient way of doing this:\n",
    "\n",
    "for year in leap_years_20C:\n",
    "    print(year)"
   ]
  },
  {
   "cell_type": "markdown",
   "metadata": {},
   "source": [
    "Suppose we want to create a new list containing the cumulative totals of the original list:"
   ]
  },
  {
   "cell_type": "code",
   "execution_count": 7,
   "metadata": {},
   "outputs": [
    {
     "name": "stdout",
     "output_type": "stream",
     "text": [
      "[1904, 3812, 5724, 7640, 9560]\n"
     ]
    }
   ],
   "source": [
    "# Create an empty list and a variable to track the cumulative total:\n",
    "list2 = []\n",
    "total = 0\n",
    "\n",
    "# Run through the original list using a loop:\n",
    "for i in leap_years_20C:\n",
    "    \n",
    "    # Update the total:\n",
    "    total = total + i\n",
    "    \n",
    "    # Add the current total to the new list:\n",
    "    list2.append(total)\n",
    "    \n",
    "# Check the result by printing the first few values:\n",
    "print(list2[:5])"
   ]
  },
  {
   "cell_type": "markdown",
   "metadata": {
    "collapsed": true
   },
   "source": [
    "What if you want to do something a set number of times?"
   ]
  },
  {
   "cell_type": "code",
   "execution_count": 6,
   "metadata": {},
   "outputs": [
    {
     "name": "stdout",
     "output_type": "stream",
     "text": [
      "Hooray!\n",
      "Hooray!\n",
      "Hooray!\n",
      "Hooray!\n",
      "Hooray!\n",
      "Hooray!\n",
      "Hooray!\n",
      "Hooray!\n",
      "Hooray!\n",
      "Hooray!\n"
     ]
    }
   ],
   "source": [
    "for i in range(10):\n",
    "    print(\"Hooray!\")"
   ]
  },
  {
   "cell_type": "markdown",
   "metadata": {
    "collapsed": true
   },
   "source": [
    "You can put loops inside loops:"
   ]
  },
  {
   "cell_type": "code",
   "execution_count": 18,
   "metadata": {},
   "outputs": [
    {
     "name": "stdout",
     "output_type": "stream",
     "text": [
      "The 1 times table\n",
      "1 times 1 = 1\n",
      "1 times 2 = 2\n",
      "1 times 3 = 3\n",
      "1 times 4 = 4\n",
      "1 times 5 = 5\n",
      "1 times 6 = 6\n",
      "1 times 7 = 7\n",
      "1 times 8 = 8\n",
      "1 times 9 = 9\n",
      "1 times 10 = 10\n",
      "\n",
      "The 2 times table\n",
      "2 times 1 = 2\n",
      "2 times 2 = 4\n",
      "2 times 3 = 6\n",
      "2 times 4 = 8\n",
      "2 times 5 = 10\n",
      "2 times 6 = 12\n",
      "2 times 7 = 14\n",
      "2 times 8 = 16\n",
      "2 times 9 = 18\n",
      "2 times 10 = 20\n",
      "\n",
      "The 3 times table\n",
      "3 times 1 = 3\n",
      "3 times 2 = 6\n",
      "3 times 3 = 9\n",
      "3 times 4 = 12\n",
      "3 times 5 = 15\n",
      "3 times 6 = 18\n",
      "3 times 7 = 21\n",
      "3 times 8 = 24\n",
      "3 times 9 = 27\n",
      "3 times 10 = 30\n",
      "\n",
      "The 4 times table\n",
      "4 times 1 = 4\n",
      "4 times 2 = 8\n",
      "4 times 3 = 12\n",
      "4 times 4 = 16\n",
      "4 times 5 = 20\n",
      "4 times 6 = 24\n",
      "4 times 7 = 28\n",
      "4 times 8 = 32\n",
      "4 times 9 = 36\n",
      "4 times 10 = 40\n",
      "\n",
      "The 5 times table\n",
      "5 times 1 = 5\n",
      "5 times 2 = 10\n",
      "5 times 3 = 15\n",
      "5 times 4 = 20\n",
      "5 times 5 = 25\n",
      "5 times 6 = 30\n",
      "5 times 7 = 35\n",
      "5 times 8 = 40\n",
      "5 times 9 = 45\n",
      "5 times 10 = 50\n",
      "\n",
      "The 6 times table\n",
      "6 times 1 = 6\n",
      "6 times 2 = 12\n",
      "6 times 3 = 18\n",
      "6 times 4 = 24\n",
      "6 times 5 = 30\n",
      "6 times 6 = 36\n",
      "6 times 7 = 42\n",
      "6 times 8 = 48\n",
      "6 times 9 = 54\n",
      "6 times 10 = 60\n",
      "\n",
      "The 7 times table\n",
      "7 times 1 = 7\n",
      "7 times 2 = 14\n",
      "7 times 3 = 21\n",
      "7 times 4 = 28\n",
      "7 times 5 = 35\n",
      "7 times 6 = 42\n",
      "7 times 7 = 49\n",
      "7 times 8 = 56\n",
      "7 times 9 = 63\n",
      "7 times 10 = 70\n",
      "\n",
      "The 8 times table\n",
      "8 times 1 = 8\n",
      "8 times 2 = 16\n",
      "8 times 3 = 24\n",
      "8 times 4 = 32\n",
      "8 times 5 = 40\n",
      "8 times 6 = 48\n",
      "8 times 7 = 56\n",
      "8 times 8 = 64\n",
      "8 times 9 = 72\n",
      "8 times 10 = 80\n",
      "\n",
      "The 9 times table\n",
      "9 times 1 = 9\n",
      "9 times 2 = 18\n",
      "9 times 3 = 27\n",
      "9 times 4 = 36\n",
      "9 times 5 = 45\n",
      "9 times 6 = 54\n",
      "9 times 7 = 63\n",
      "9 times 8 = 72\n",
      "9 times 9 = 81\n",
      "9 times 10 = 90\n",
      "\n",
      "The 10 times table\n",
      "10 times 1 = 10\n",
      "10 times 2 = 20\n",
      "10 times 3 = 30\n",
      "10 times 4 = 40\n",
      "10 times 5 = 50\n",
      "10 times 6 = 60\n",
      "10 times 7 = 70\n",
      "10 times 8 = 80\n",
      "10 times 9 = 90\n",
      "10 times 10 = 100\n",
      "\n"
     ]
    }
   ],
   "source": [
    "for i in range(1,11):\n",
    "    print(\"The\", i, \"times table\")\n",
    "    for j in range(1,11):\n",
    "        print(i, \"times\", j, \"=\", i*j)\n",
    "    print() # This adds a blank line\n",
    "        "
   ]
  },
  {
   "cell_type": "markdown",
   "metadata": {},
   "source": [
    "### While loops"
   ]
  },
  {
   "cell_type": "markdown",
   "metadata": {
    "collapsed": true
   },
   "source": [
    "Maybe you want to do something until a certain condition is met:"
   ]
  },
  {
   "cell_type": "code",
   "execution_count": 11,
   "metadata": {},
   "outputs": [
    {
     "name": "stdout",
     "output_type": "stream",
     "text": [
      "What is 2 + 2 ?3\n",
      "What is 2 + 2 ?4\n",
      "Yes ! 2 + 2 = 4\n"
     ]
    }
   ],
   "source": [
    "# Ask the user until you get the right answer\n",
    "\n",
    "answer = \"0\"\n",
    "\n",
    "while answer != \"4\":\n",
    "    answer = input(\"What is 2 + 2 ?\")\n",
    "print(\"Yes! 2 + 2 = 4\")"
   ]
  },
  {
   "cell_type": "code",
   "execution_count": 19,
   "metadata": {},
   "outputs": [
    {
     "name": "stdout",
     "output_type": "stream",
     "text": [
      "2\n",
      "4\n",
      "8\n",
      "16\n",
      "32\n",
      "64\n",
      "128\n",
      "256\n",
      "512\n"
     ]
    }
   ],
   "source": [
    "# Print all the powers of 2 that are less than 1000:\n",
    "\n",
    "value = 2\n",
    "\n",
    "while value < 1000:\n",
    "    print(value)\n",
    "    value = value*2"
   ]
  },
  {
   "cell_type": "markdown",
   "metadata": {
    "collapsed": true
   },
   "source": [
    "### More Advanced...\n",
    "\n",
    "You can also create lists directly using loops (these are called 'comprehensions'):"
   ]
  },
  {
   "cell_type": "code",
   "execution_count": 21,
   "metadata": {},
   "outputs": [
    {
     "name": "stdout",
     "output_type": "stream",
     "text": [
      "[2, 4, 6, 8, 10, 12, 14, 16, 18]\n"
     ]
    }
   ],
   "source": [
    "# Create a list of the first 10 even numbers:\n",
    "\n",
    "even_numbers = [2*i for i in range(1,10)]\n",
    "print(even_numbers)"
   ]
  },
  {
   "cell_type": "code",
   "execution_count": 30,
   "metadata": {},
   "outputs": [
    {
     "name": "stdout",
     "output_type": "stream",
     "text": [
      "['t', 'h', 'o', 'm', 'a', 's']\n"
     ]
    }
   ],
   "source": [
    "# Create a list of the letters in your name (in lower case):\n",
    "\n",
    "letters_in_my_name = [letter.lower() for letter in 'Thomas']\n",
    "print(letters_in_my_name)"
   ]
  }
 ],
 "metadata": {
  "kernelspec": {
   "display_name": "Python 3",
   "language": "python",
   "name": "python3"
  },
  "language_info": {
   "codemirror_mode": {
    "name": "ipython",
    "version": 3
   },
   "file_extension": ".py",
   "mimetype": "text/x-python",
   "name": "python",
   "nbconvert_exporter": "python",
   "pygments_lexer": "ipython3",
   "version": "3.6.5"
  }
 },
 "nbformat": 4,
 "nbformat_minor": 1
}
