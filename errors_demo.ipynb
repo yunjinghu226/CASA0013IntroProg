{
 "cells": [
  {
   "cell_type": "markdown",
   "metadata": {},
   "source": [
    "## Errors Demo"
   ]
  },
  {
   "cell_type": "markdown",
   "metadata": {},
   "source": [
    "### Syntax errors"
   ]
  },
  {
   "cell_type": "code",
   "execution_count": 4,
   "metadata": {},
   "outputs": [
    {
     "ename": "SyntaxError",
     "evalue": "invalid syntax (<ipython-input-4-a1ea1869323a>, line 1)",
     "output_type": "error",
     "traceback": [
      "\u001b[0;36m  File \u001b[0;32m\"<ipython-input-4-a1ea1869323a>\"\u001b[0;36m, line \u001b[0;32m1\u001b[0m\n\u001b[0;31m    print(Hello world')\u001b[0m\n\u001b[0m                    ^\u001b[0m\n\u001b[0;31mSyntaxError\u001b[0m\u001b[0;31m:\u001b[0m invalid syntax\n"
     ]
    }
   ],
   "source": [
    "print(Hello world')"
   ]
  },
  {
   "cell_type": "code",
   "execution_count": 3,
   "metadata": {},
   "outputs": [
    {
     "ename": "SyntaxError",
     "evalue": "invalid syntax (<ipython-input-3-20e285b71f54>, line 1)",
     "output_type": "error",
     "traceback": [
      "\u001b[0;36m  File \u001b[0;32m\"<ipython-input-3-20e285b71f54>\"\u001b[0;36m, line \u001b[0;32m1\u001b[0m\n\u001b[0;31m    sum = 5 +\u001b[0m\n\u001b[0m             ^\u001b[0m\n\u001b[0;31mSyntaxError\u001b[0m\u001b[0;31m:\u001b[0m invalid syntax\n"
     ]
    }
   ],
   "source": [
    "sum = 5 +"
   ]
  },
  {
   "cell_type": "markdown",
   "metadata": {},
   "source": [
    "### Logic errors"
   ]
  },
  {
   "cell_type": "markdown",
   "metadata": {},
   "source": [
    "Incorrect data type"
   ]
  },
  {
   "cell_type": "code",
   "execution_count": 5,
   "metadata": {},
   "outputs": [],
   "source": [
    "salary = '5000'\n",
    "bonus = '50'"
   ]
  },
  {
   "cell_type": "code",
   "execution_count": 6,
   "metadata": {},
   "outputs": [],
   "source": [
    "payCheck = salary + bonus"
   ]
  },
  {
   "cell_type": "code",
   "execution_count": 7,
   "metadata": {},
   "outputs": [
    {
     "name": "stdout",
     "output_type": "stream",
     "text": [
      "500050\n"
     ]
    }
   ],
   "source": [
    "print(payCheck)"
   ]
  },
  {
   "cell_type": "markdown",
   "metadata": {},
   "source": [
    "Incorrect indexing"
   ]
  },
  {
   "cell_type": "code",
   "execution_count": 8,
   "metadata": {},
   "outputs": [],
   "source": [
    "presents = ['candy','CD','chocolate']"
   ]
  },
  {
   "cell_type": "code",
   "execution_count": 9,
   "metadata": {},
   "outputs": [
    {
     "name": "stdout",
     "output_type": "stream",
     "text": [
      "CD\n",
      "chocolate\n"
     ]
    }
   ],
   "source": [
    "# Print all presents\n",
    "for i in range(1,3):\n",
    "    print(presents[i])"
   ]
  },
  {
   "cell_type": "markdown",
   "metadata": {},
   "source": [
    "### Runtime errors"
   ]
  },
  {
   "cell_type": "markdown",
   "metadata": {},
   "source": [
    "Let's create a simple calculator program that can divide two numbers"
   ]
  },
  {
   "cell_type": "code",
   "execution_count": 13,
   "metadata": {},
   "outputs": [
    {
     "name": "stdout",
     "output_type": "stream",
     "text": [
      "Enter the first number 2\n",
      "Enter the second number 3\n",
      "2 / 3 = 0.6666666666666666\n"
     ]
    }
   ],
   "source": [
    "first = input(\"Enter the first number \")\n",
    "second = input(\"Enter the second number \")\n",
    "\n",
    "firstNumber = float(first)\n",
    "secondNumber = float(second)\n",
    "\n",
    "result = firstNumber / secondNumber\n",
    "\n",
    "print(first + \" / \" + second + \" = \" + str(result))"
   ]
  },
  {
   "cell_type": "markdown",
   "metadata": {},
   "source": [
    "What happens when you enter 0 as the second number?"
   ]
  },
  {
   "cell_type": "markdown",
   "metadata": {},
   "source": [
    "### Try / except statement"
   ]
  },
  {
   "cell_type": "markdown",
   "metadata": {},
   "source": [
    "Let's add a `try` and `except` around the code that generates the error to handle it gracefully"
   ]
  },
  {
   "cell_type": "code",
   "execution_count": 14,
   "metadata": {},
   "outputs": [
    {
     "name": "stdout",
     "output_type": "stream",
     "text": [
      "Enter the first number 2\n",
      "Enter the second number 3\n",
      "2 / 3 = 0.6666666666666666\n"
     ]
    }
   ],
   "source": [
    "first = input(\"Enter the first number \")\n",
    "second = input(\"Enter the second number \")\n",
    "\n",
    "firstNumber = float(first)\n",
    "secondNumber = float(second)\n",
    "\n",
    "try: \n",
    "    result = firstNumber / secondNumber\n",
    "\n",
    "    print(first + \" / \" + second + \" = \" + str(result))\n",
    "except:\n",
    "    print(\"I am sorry something went wrong\")"
   ]
  },
  {
   "cell_type": "markdown",
   "metadata": {},
   "source": [
    "Print out the error you are catching"
   ]
  },
  {
   "cell_type": "code",
   "execution_count": null,
   "metadata": {},
   "outputs": [],
   "source": [
    "first = input(\"Enter the first number \")\n",
    "second = input(\"Enter the second number \")\n",
    "\n",
    "firstNumber = float(first)\n",
    "secondNumber = float(second)\n",
    "\n",
    "try: \n",
    "    result = firstNumber / secondNumber\n",
    "\n",
    "    print(first + \" / \" + second + \" = \" + str(result))\n",
    "except Exception as e:\n",
    "    print(\"I am sorry something went wrong\")\n",
    "    print(e)"
   ]
  },
  {
   "cell_type": "markdown",
   "metadata": {},
   "source": [
    "Catch the 'division by zero' error specifically "
   ]
  },
  {
   "cell_type": "code",
   "execution_count": 18,
   "metadata": {},
   "outputs": [
    {
     "name": "stdout",
     "output_type": "stream",
     "text": [
      "Enter the first number 2\n",
      "Enter the second number 0\n",
      "The answer is infinity\n"
     ]
    }
   ],
   "source": [
    "first = input(\"Enter the first number \")\n",
    "second = input(\"Enter the second number \")\n",
    "\n",
    "firstNumber = float(first)\n",
    "secondNumber = float(second)\n",
    "\n",
    "try: \n",
    "    result = firstNumber / secondNumber\n",
    "\n",
    "    print(first + \" / \" + second + \" = \" + str(result))\n",
    "except ZeroDivisionError:\n",
    "    print(\"The answer is infinity\")"
   ]
  },
  {
   "cell_type": "markdown",
   "metadata": {},
   "source": [
    "Add a generic error handler"
   ]
  },
  {
   "cell_type": "code",
   "execution_count": 21,
   "metadata": {},
   "outputs": [
    {
     "name": "stdout",
     "output_type": "stream",
     "text": [
      "Enter the first number 0\n",
      "Enter the second number 0\n",
      "The answer is infinity\n"
     ]
    }
   ],
   "source": [
    "first = input(\"Enter the first number \")\n",
    "second = input(\"Enter the second number \")\n",
    "\n",
    "firstNumber = float(first)\n",
    "secondNumber = float(second)\n",
    "\n",
    "try: \n",
    "    result = firstNumber / secondNumber\n",
    "\n",
    "    print(first + \" / \" + second + \" = \" + str(result))\n",
    "except ZeroDivisionError:\n",
    "    print(\"The answer is infinity\")\n",
    "except Exception as e:\n",
    "    print(\"I am sorry something went wrong\")\n",
    "    print(e)"
   ]
  },
  {
   "cell_type": "markdown",
   "metadata": {},
   "source": [
    "Is there any other lines of code that you give us an error at runtime?"
   ]
  },
  {
   "cell_type": "markdown",
   "metadata": {},
   "source": [
    "What if a user inputs letters instead of numbers?"
   ]
  },
  {
   "cell_type": "code",
   "execution_count": 26,
   "metadata": {},
   "outputs": [],
   "source": [
    "import sys"
   ]
  },
  {
   "cell_type": "code",
   "execution_count": 29,
   "metadata": {},
   "outputs": [
    {
     "name": "stdout",
     "output_type": "stream",
     "text": [
      "Enter the first number 2\n",
      "Enter the second number d\n",
      "Please make sure you give numbers, not letters.\n"
     ]
    }
   ],
   "source": [
    "first = input(\"Enter the first number \")\n",
    "second = input(\"Enter the second number \")\n",
    "\n",
    "try: \n",
    "\n",
    "    firstNumber = float(first)\n",
    "    secondNumber = float(second)\n",
    "\n",
    "    result = firstNumber / secondNumber\n",
    "\n",
    "    print(first + \" / \" + second + \" = \" + str(result))\n",
    "except ZeroDivisionError:\n",
    "    print(\"The answer is infinity\")\n",
    "except ValueError:\n",
    "    print(\"Please make sure you give numbers, not letters.\")\n",
    "except Exception as e:\n",
    "    print(\"I am sorry something went wrong\")\n",
    "    print(sys.exc_info()[0])"
   ]
  }
 ],
 "metadata": {
  "kernelspec": {
   "display_name": "Python 3",
   "language": "python",
   "name": "python3"
  },
  "language_info": {
   "codemirror_mode": {
    "name": "ipython",
    "version": 3
   },
   "file_extension": ".py",
   "mimetype": "text/x-python",
   "name": "python",
   "nbconvert_exporter": "python",
   "pygments_lexer": "ipython3",
   "version": "3.6.5"
  }
 },
 "nbformat": 4,
 "nbformat_minor": 2
}
