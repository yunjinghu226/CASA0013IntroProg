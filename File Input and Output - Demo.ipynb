{
 "cells": [
  {
   "cell_type": "markdown",
   "metadata": {},
   "source": [
    "# Getting data in and out of a file"
   ]
  },
  {
   "cell_type": "markdown",
   "metadata": {},
   "source": [
    "## Writing data in a file"
   ]
  },
  {
   "cell_type": "code",
   "execution_count": 2,
   "metadata": {},
   "outputs": [],
   "source": [
    "# Create a file with 'Hello World'\n",
    "fileName = 'HelloWorld.txt'\n",
    "accessMode = 'w'\n",
    "with open(fileName, accessMode) as myFile:\n",
    "    myFile.write(\"Hello World\")"
   ]
  },
  {
   "cell_type": "code",
   "execution_count": 3,
   "metadata": {},
   "outputs": [],
   "source": [
    "# Create a file that contains the names and ages of five guests.\n",
    "# Jack, 29\n",
    "# Jude, 24\n",
    "# Amy, 26\n",
    "# Jordan, 27\n",
    "# Mike, 30"
   ]
  },
  {
   "cell_type": "code",
   "execution_count": 4,
   "metadata": {},
   "outputs": [],
   "source": [
    "with open('GuestList.csv','w') as myFile:\n",
    "    myFile.write('Jack, 29\\n')\n",
    "    myFile.write('Jude, 24\\n')\n",
    "    myFile.write('Amy, 26\\n')\n",
    "    myFile.write('Jordan, 27\\n')\n",
    "    myFile.write('Mike, 30\\n')"
   ]
  },
  {
   "cell_type": "markdown",
   "metadata": {},
   "source": [
    "### Notice:"
   ]
  },
  {
   "cell_type": "markdown",
   "metadata": {},
   "source": [
    "CSV (comma separated values) is a common format for storing information in a file.\n",
    "* A CSV file contains data separated by a character (usually a comma). \n",
    "* Each row represents one record of data\n",
    "* It is sometimes called a Character Separated Values file because the separating character could be a different character such as a semi colon ‘;’"
   ]
  },
  {
   "cell_type": "markdown",
   "metadata": {},
   "source": [
    "## Reading data from a file"
   ]
  },
  {
   "cell_type": "code",
   "execution_count": 5,
   "metadata": {},
   "outputs": [],
   "source": [
    "# Read first three lines from your list of guests\n",
    "with open('GuestList.csv','r') as myFile:\n",
    "    lines = myFile.read()"
   ]
  },
  {
   "cell_type": "code",
   "execution_count": 7,
   "metadata": {},
   "outputs": [
    {
     "name": "stdout",
     "output_type": "stream",
     "text": [
      "Jack, 29\n",
      "Jude, 24\n",
      "Amy, 26\n",
      "Jordan, 27\n",
      "Mike, 30\n",
      "\n"
     ]
    }
   ],
   "source": [
    "print(lines)"
   ]
  },
  {
   "cell_type": "code",
   "execution_count": 9,
   "metadata": {},
   "outputs": [],
   "source": [
    "# Read first three lines from your list of guests\n",
    "with open('GuestList.csv','r') as myFile:\n",
    "    line1 = myFile.readline()\n",
    "    line2 = myFile.readline()\n",
    "    line3 = myFile.readline()"
   ]
  },
  {
   "cell_type": "code",
   "execution_count": 10,
   "metadata": {},
   "outputs": [
    {
     "name": "stdout",
     "output_type": "stream",
     "text": [
      "Jack, 29\n",
      "\n",
      "Jude, 24\n",
      "\n",
      "Amy, 26\n",
      "\n"
     ]
    }
   ],
   "source": [
    "print(line1)\n",
    "print(line2)\n",
    "print(line3)"
   ]
  },
  {
   "cell_type": "markdown",
   "metadata": {},
   "source": [
    "**Question**: Why do you get additional spaces between lines of text?"
   ]
  },
  {
   "cell_type": "code",
   "execution_count": 11,
   "metadata": {},
   "outputs": [
    {
     "name": "stdout",
     "output_type": "stream",
     "text": [
      "Jack, 29\n",
      "\n",
      "Jude, 24\n",
      "\n",
      "Amy, 26\n",
      "\n",
      "Jordan, 27\n",
      "\n",
      "Mike, 30\n",
      "\n"
     ]
    }
   ],
   "source": [
    "# Read and print each line in your guest file\n",
    "with open('GuestList.csv','r') as myFile:\n",
    "    for line in myFile:\n",
    "        print(line)"
   ]
  },
  {
   "cell_type": "code",
   "execution_count": 12,
   "metadata": {},
   "outputs": [
    {
     "name": "stdout",
     "output_type": "stream",
     "text": [
      "Jack, 29\n",
      "Jude, 24\n",
      "Amy, 26\n",
      "Jordan, 27\n",
      "Mike, 30\n"
     ]
    }
   ],
   "source": [
    "# Make sure you remove the new line characters from the end of each line!\n",
    "with open('GuestList.csv','r') as myFile:\n",
    "    for line in myFile:\n",
    "        print(line.rstrip())"
   ]
  },
  {
   "cell_type": "code",
   "execution_count": 14,
   "metadata": {},
   "outputs": [
    {
     "name": "stdout",
     "output_type": "stream",
     "text": [
      "Jack\n",
      "Jude\n",
      "Amy\n",
      "Jordan\n",
      "Mike\n"
     ]
    }
   ],
   "source": [
    "# Print only the names of your guests\n",
    "with open('GuestList.csv','r') as myFile:\n",
    "    for line in myFile:\n",
    "        name = line.rstrip().split(',')[0]\n",
    "        print(name)"
   ]
  }
 ],
 "metadata": {
  "kernelspec": {
   "display_name": "Python 3",
   "language": "python",
   "name": "python3"
  },
  "language_info": {
   "codemirror_mode": {
    "name": "ipython",
    "version": 3
   },
   "file_extension": ".py",
   "mimetype": "text/x-python",
   "name": "python",
   "nbconvert_exporter": "python",
   "pygments_lexer": "ipython3",
   "version": "3.6.5"
  }
 },
 "nbformat": 4,
 "nbformat_minor": 2
}
