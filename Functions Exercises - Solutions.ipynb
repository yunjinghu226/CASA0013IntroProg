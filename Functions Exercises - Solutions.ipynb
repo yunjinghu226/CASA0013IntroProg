{
 "cells": [
  {
   "cell_type": "markdown",
   "metadata": {},
   "source": [
    "# Functions - Exercises"
   ]
  },
  {
   "cell_type": "markdown",
   "metadata": {},
   "source": [
    "1) Write a function that adds 10 to a number."
   ]
  },
  {
   "cell_type": "code",
   "execution_count": 2,
   "metadata": {
    "collapsed": true
   },
   "outputs": [],
   "source": [
    "def addTen( myInput ):\n",
    "    result = myInput+10\n",
    "    return(result)\n"
   ]
  },
  {
   "cell_type": "code",
   "execution_count": 3,
   "metadata": {},
   "outputs": [
    {
     "name": "stdout",
     "output_type": "stream",
     "text": [
      "25\n"
     ]
    }
   ],
   "source": [
    "print(addTen(15))"
   ]
  },
  {
   "cell_type": "markdown",
   "metadata": {},
   "source": [
    "2) Create a function that takes two numbers and returns the word 'city' if they are equal, 'buildings' if the first is larger and 'urban' if the second is larger. "
   ]
  },
  {
   "cell_type": "code",
   "execution_count": 4,
   "metadata": {
    "collapsed": true
   },
   "outputs": [],
   "source": [
    "def tellScale( num1, num2):\n",
    "    \n",
    "    if (num1 == num2):\n",
    "        print(\"city\")\n",
    "    elif (num1 > num2):\n",
    "        print(\"buildings\")\n",
    "    else:\n",
    "        print(\"urban\")"
   ]
  },
  {
   "cell_type": "code",
   "execution_count": 5,
   "metadata": {},
   "outputs": [
    {
     "name": "stdout",
     "output_type": "stream",
     "text": [
      "city\n",
      "buildings\n",
      "urban\n"
     ]
    }
   ],
   "source": [
    "tellScale(4,4)\n",
    "tellScale(5,4)\n",
    "tellScale(4,5)"
   ]
  },
  {
   "cell_type": "markdown",
   "metadata": {},
   "source": [
    "3) Fix the code below. Think about what kind of error you are getting."
   ]
  },
  {
   "cell_type": "code",
   "execution_count": 8,
   "metadata": {
    "collapsed": true
   },
   "outputs": [],
   "source": [
    "#task 3:\n",
    "#def myFunction():\n",
    "    #func_var = 666\n",
    "    #print(\"Function ran.\")\n",
    "    \n",
    "#myFunction()\n",
    "#print(func_var)    "
   ]
  },
  {
   "cell_type": "code",
   "execution_count": 9,
   "metadata": {},
   "outputs": [
    {
     "name": "stdout",
     "output_type": "stream",
     "text": [
      "Function ran.\n",
      "666\n"
     ]
    }
   ],
   "source": [
    "###############\n",
    "#task 3: solved\n",
    "def myFunction():\n",
    "    global func_var #make variable global\n",
    "    func_var = 666\n",
    "    print(\"Function ran.\")\n",
    "\n",
    "myFunction()\n",
    "print(func_var) #then it is avaliable outside the function"
   ]
  },
  {
   "cell_type": "markdown",
   "metadata": {},
   "source": [
    "4) Create a function that takes a list of numbers, sorts it into order, and returns the number that is closest to 7. Make the sorted list avaliable outside the function. \n",
    "\n",
    "*HINT*: Try giving the sorted list its own name, like 'mySortedList' or 'sortieMcSortList'. \n",
    "\n"
   ]
  },
  {
   "cell_type": "code",
   "execution_count": 10,
   "metadata": {
    "collapsed": true
   },
   "outputs": [],
   "source": [
    "def findClosestTo7( myList ):\n",
    "    global sortieMcSortList  \n",
    "    #note: the global variable is a separate object from the argument \n",
    "    sortieMcSortList = myList \n",
    "    sortieMcSortList.sort()\n",
    "\n",
    "    for i in myList:\n",
    "        check = abs(i-7)\n",
    "\n",
    "        if (myList.index(i) == 0):\n",
    "            smallVal = check\n",
    "            result = i\n",
    "        \n",
    "        if (check <= smallVal):\n",
    "            smallVal = check\n",
    "            result = i\n",
    "    \n",
    "    return(result)\n",
    "            \n",
    "            "
   ]
  },
  {
   "cell_type": "code",
   "execution_count": 11,
   "metadata": {},
   "outputs": [
    {
     "name": "stdout",
     "output_type": "stream",
     "text": [
      "28\n",
      "[28, 34, 53, 56, 789]\n"
     ]
    }
   ],
   "source": [
    "aList = [34,56,789,53,28]\n",
    "\n",
    "print(findClosestTo7(aList))\n",
    "print(sortieMcSortList)"
   ]
  },
  {
   "cell_type": "markdown",
   "metadata": {},
   "source": [
    "5) Write a function that takes user input and checks if this is of a numeric type. If they haven't given you numbers print \"I only understand numbers\". Output a boolean that says the user was did want you wanted (true) or did not (false).\n",
    "\n",
    "*HINT*: you will need to use **'try'** and **'except'**. Need more help? Click here-> [💁](http://www.pythonforbeginners.com/error-handling/python-try-and-except)"
   ]
  },
  {
   "cell_type": "code",
   "execution_count": 12,
   "metadata": {
    "collapsed": true
   },
   "outputs": [],
   "source": [
    "def checkUserInput():\n",
    "    userInput = input(\"User input: \")\n",
    "    check = True\n",
    "    \n",
    "    try: \n",
    "        val = int(userInput)\n",
    "    except:\n",
    "        print(\"I only understand numbers\")\n",
    "        check = False\n",
    "    \n",
    "    return(check)"
   ]
  },
  {
   "cell_type": "code",
   "execution_count": 14,
   "metadata": {},
   "outputs": [
    {
     "name": "stdout",
     "output_type": "stream",
     "text": [
      "User input: 12\n",
      "True\n"
     ]
    }
   ],
   "source": [
    "print(checkUserInput())"
   ]
  },
  {
   "cell_type": "markdown",
   "metadata": {},
   "source": [
    "6) Copy the function from (5) and rename it. Change the copy, so that the function returns both boolean and the number a user provided (if they provided one).\n",
    "\n",
    "*HINT*: This is an imporant example, so hints won't come cheap. (If you _really_ need a hint, look at the 7th word in task (5)!)"
   ]
  },
  {
   "cell_type": "code",
   "execution_count": 15,
   "metadata": {
    "collapsed": true
   },
   "outputs": [],
   "source": [
    "def smarterCheckUserInput():\n",
    "    userInput = input(\"User input: \")\n",
    "    \n",
    "    try: \n",
    "        val = int(userInput)\n",
    "        check = True\n",
    "    except:\n",
    "        print(\"I only understand numbers\")\n",
    "        check = False\n",
    "    \n",
    "    multipleOutputList = [check]\n",
    "    \n",
    "    if(check):\n",
    "        multipleOutputList.append(val)\n",
    "            \n",
    "    return(multipleOutputList)"
   ]
  },
  {
   "cell_type": "code",
   "execution_count": 18,
   "metadata": {},
   "outputs": [
    {
     "name": "stdout",
     "output_type": "stream",
     "text": [
      "User input: 12\n",
      "True\n",
      "12\n"
     ]
    }
   ],
   "source": [
    "#######################\n",
    "#Running function here.\n",
    "outputs = smarterCheckUserInput()\n",
    "\n",
    "#Getting my first output here\n",
    "output_1 = outputs[0]\n",
    "print(output_1)\n",
    "\n",
    "#In this case, the 2nd output depends on the first, \n",
    "#so am using conditional 'if' before I call the 2nd output \n",
    "if(output_1):\n",
    "    output_2 = outputs[1]\n",
    "    print(output_2)"
   ]
  },
  {
   "cell_type": "markdown",
   "metadata": {},
   "source": [
    "7) By combining your answers for 2) and 6) make a function that takes user input, checks that it is numeric, adds ten if possible and returns the result."
   ]
  },
  {
   "cell_type": "code",
   "execution_count": 19,
   "metadata": {
    "collapsed": true
   },
   "outputs": [],
   "source": [
    "def fancyAddTen():\n",
    "    isNumber = smarterCheckUserInput() #func returns list\n",
    "    \n",
    "    #can use bool directly in if statement:\n",
    "    if(isNumber[0]): \n",
    "        print(isNumber[1])\n",
    "        result = isNumber[1] + 10 \n",
    "        return(result)"
   ]
  },
  {
   "cell_type": "code",
   "execution_count": 21,
   "metadata": {},
   "outputs": [
    {
     "name": "stdout",
     "output_type": "stream",
     "text": [
      "User input: a\n",
      "I only understand numbers\n",
      "None\n"
     ]
    }
   ],
   "source": [
    "print(fancyAddTen())"
   ]
  },
  {
   "cell_type": "markdown",
   "metadata": {},
   "source": [
    "8) Run the below. Think about what this means in practice."
   ]
  },
  {
   "cell_type": "code",
   "execution_count": null,
   "metadata": {
    "collapsed": true
   },
   "outputs": [],
   "source": [
    "import this\n",
    "#Simple is better than complex.\n",
    "#Complex is better than complicated.\n",
    "## Ex. use simple short names\n",
    "\n",
    "#Readability counts.\n",
    "#...practicality beats purity.\n",
    "## Ex. if you are pressed on time, just make it work\n",
    "\n",
    "#If the implementation is hard to explain, it's a bad idea.\n",
    "#If the implementation is easy to explain, it may be a good idea.\n",
    "## Ex. use functions to pack away the boring procedures and make code readable\n",
    "\n",
    "## This poetic guide is missing a thought on comments.\n",
    "## Good coders ALWAYS include comments!"
   ]
  },
  {
   "cell_type": "markdown",
   "metadata": {},
   "source": [
    "9) *(Advanced)* Write a function that can print out the reverses of the B-I-N-G-O song as many times as a user requests. Assume that once the reverses finish, the song starts from the begining. \n",
    "The lyrics of the sound can be found [here](http://www.nurseryrhymes.org/bingo.html). \n",
    "\n",
    "*HINT*: Use a global variable to remember how far along in the song Python is. \n"
   ]
  },
  {
   "cell_type": "code",
   "execution_count": 22,
   "metadata": {
    "collapsed": true
   },
   "outputs": [],
   "source": [
    "#Defined the function\n",
    "def singBingoVerse():\n",
    "    global counter\n",
    "    bingo = ['B','I','N','G','O']\n",
    "    \n",
    "    print('')#prints an empty line\n",
    "    print('There was a farmer who had a dog,')\n",
    "    print('And Bingo was his name-O.')\n",
    "    \n",
    "    #notice that when counter = 0, the for loop doesn't run\n",
    "    for i in range(0, counter%6):#use modulo (%) to not go out of 'bingo' list's bounds \n",
    "           # bingo[i] = \"CLAP\"\n",
    "            bingo[i] = \"👏\"#emoji version, jff\n",
    "         \n",
    "    #Change list to str for clean printing to console\n",
    "    bingo = '-'.join(bingo)\n",
    "    \n",
    "    for i in range(0,3):\n",
    "        print(bingo)    \n",
    "\n",
    "    print('And Bingo was his name-O!')\n",
    "    counter = counter+1\n",
    "        "
   ]
  },
  {
   "cell_type": "code",
   "execution_count": 23,
   "metadata": {
    "scrolled": true
   },
   "outputs": [
    {
     "name": "stdout",
     "output_type": "stream",
     "text": [
      "\n",
      "There was a farmer who had a dog,\n",
      "And Bingo was his name-O.\n",
      "B-I-N-G-O\n",
      "B-I-N-G-O\n",
      "B-I-N-G-O\n",
      "And Bingo was his name-O!\n",
      "\n",
      "There was a farmer who had a dog,\n",
      "And Bingo was his name-O.\n",
      "👏-I-N-G-O\n",
      "👏-I-N-G-O\n",
      "👏-I-N-G-O\n",
      "And Bingo was his name-O!\n",
      "User input: 3\n",
      "\n",
      "There was a farmer who had a dog,\n",
      "And Bingo was his name-O.\n",
      "👏-👏-N-G-O\n",
      "👏-👏-N-G-O\n",
      "👏-👏-N-G-O\n",
      "And Bingo was his name-O!\n",
      "\n",
      "There was a farmer who had a dog,\n",
      "And Bingo was his name-O.\n",
      "👏-👏-👏-G-O\n",
      "👏-👏-👏-G-O\n",
      "👏-👏-👏-G-O\n",
      "And Bingo was his name-O!\n",
      "\n",
      "There was a farmer who had a dog,\n",
      "And Bingo was his name-O.\n",
      "👏-👏-👏-👏-O\n",
      "👏-👏-👏-👏-O\n",
      "👏-👏-👏-👏-O\n",
      "And Bingo was his name-O!\n"
     ]
    }
   ],
   "source": [
    "######################################\n",
    "#Use the singBingVerse() and function\n",
    "#Remeber to run all the cells that functions are defined in!\n",
    "#otherwise Python has no idea what you want\n",
    "counter = 0\n",
    "numSpecifiedInCode = 2\n",
    "\n",
    "for i in range(0,numSpecifiedInCode):\n",
    "    singBingoVerse()\n",
    "    \n",
    "#notice how when you add the user input \n",
    "#it still knows where to continue singing from\n",
    "#this is the power of global variables\n",
    "userIn_fancy = smarterCheckUserInput()\n",
    "if(userIn_fancy[0]):\n",
    "    for i in range(userIn_fancy[1]):\n",
    "        singBingoVerse()\n",
    "\n",
    "\n"
   ]
  },
  {
   "cell_type": "markdown",
   "metadata": {},
   "source": [
    "<font color='purple'>\n",
    "**Extra for the curious: Exceptions**\n",
    "<br />\n",
    "Python has a list of errors it will throw you when its unhappy.\n",
    "You can find all them [here](https://docs.python.org/2/library/exceptions.html)\n",
    "<br />\n",
    "See an example of how to use these error exceptions below:\n",
    "</font> "
   ]
  },
  {
   "cell_type": "code",
   "execution_count": null,
   "metadata": {
    "collapsed": true
   },
   "outputs": [],
   "source": [
    "def adv_checkUserInput():\n",
    "    #this version is a little more advanced\n",
    "    userInput = input(\"User input: \")\n",
    "    check = True\n",
    "    \n",
    "    try: \n",
    "        val = int(userInput)\n",
    "    except ValueError: #notice I have specified the error I expect\n",
    "        print(\"I only understand numbers\")\n",
    "        check = False\n",
    "    \n",
    "    return(check)"
   ]
  }
 ],
 "metadata": {
  "kernelspec": {
   "display_name": "Python 3",
   "language": "python",
   "name": "python3"
  },
  "language_info": {
   "codemirror_mode": {
    "name": "ipython",
    "version": 3
   },
   "file_extension": ".py",
   "mimetype": "text/x-python",
   "name": "python",
   "nbconvert_exporter": "python",
   "pygments_lexer": "ipython3",
   "version": "3.6.5"
  }
 },
 "nbformat": 4,
 "nbformat_minor": 2
}
