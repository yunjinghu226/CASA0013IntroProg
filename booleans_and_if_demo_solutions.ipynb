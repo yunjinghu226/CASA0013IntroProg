{
 "cells": [
  {
   "cell_type": "markdown",
   "metadata": {},
   "source": [
    "# Boolean expressions and if statements"
   ]
  },
  {
   "cell_type": "markdown",
   "metadata": {},
   "source": [
    "## If Statements"
   ]
  },
  {
   "cell_type": "markdown",
   "metadata": {},
   "source": [
    "'if' statements allow your code to do different things in different circumstances:"
   ]
  },
  {
   "cell_type": "code",
   "execution_count": 2,
   "metadata": {},
   "outputs": [
    {
     "name": "stdout",
     "output_type": "stream",
     "text": [
      "Would you like express shipping?yes\n",
      "That will be an extra $10\n"
     ]
    }
   ],
   "source": [
    "answer = input(\"Would you like express shipping?\")\n",
    "if answer == \"yes\":\n",
    "    print(\"That will be an extra $10\")"
   ]
  },
  {
   "cell_type": "markdown",
   "metadata": {},
   "source": [
    "Indentation is important!"
   ]
  },
  {
   "cell_type": "code",
   "execution_count": 3,
   "metadata": {},
   "outputs": [
    {
     "name": "stdout",
     "output_type": "stream",
     "text": [
      "Would you like express shipping?yes\n",
      "That will be an extra $10\n",
      "Have a nice day\n"
     ]
    }
   ],
   "source": [
    "answer = input(\"Would you like express shipping?\")\n",
    "if answer == \"yes\":\n",
    "    print(\"That will be an extra $10\")\n",
    "print(\"Have a nice day\")"
   ]
  },
  {
   "cell_type": "code",
   "execution_count": null,
   "metadata": {},
   "outputs": [],
   "source": [
    "# You can check for different conditions\n",
    "answer = input(\"Would you like express shipping?\")\n",
    "if answer != \"no\":\n",
    "    print(\"That will be an extra $10\")\n",
    "print(\"Have a nice day\")"
   ]
  },
  {
   "cell_type": "markdown",
   "metadata": {},
   "source": [
    "## If Statements with branching"
   ]
  },
  {
   "cell_type": "markdown",
   "metadata": {},
   "source": [
    "If and else statements"
   ]
  },
  {
   "cell_type": "code",
   "execution_count": 10,
   "metadata": {},
   "outputs": [
    {
     "name": "stdout",
     "output_type": "stream",
     "text": [
      "How much would you like to deposit?100\n",
      "Enjoy your mug!\n",
      "Have a nice day!\n"
     ]
    }
   ],
   "source": [
    "deposit = input(\"How much would you like to deposit?\")\n",
    "if float(deposit) > 100:\n",
    "    print(\"You get a free toaster!\")\n",
    "else:\n",
    "    print(\"Enjoy your mug!\") \n",
    "print(\"Have a nice day!\")"
   ]
  },
  {
   "cell_type": "markdown",
   "metadata": {},
   "source": [
    "If, elif and else statements"
   ]
  },
  {
   "cell_type": "code",
   "execution_count": null,
   "metadata": {},
   "outputs": [],
   "source": [
    "deposit = input(\"How much would you like to deposit?\")\n",
    "if float(deposit) > 100:\n",
    "    print(\"You get a free toaster!\")\n",
    "elif float(deposit) > 50 and float(deposit) <= 100:\n",
    "    print(\"Enjoy your mug!\") \n",
    "else:\n",
    "    print(\"Get your sticker!\")\n",
    "print(\"Have a nice day!\")"
   ]
  },
  {
   "cell_type": "markdown",
   "metadata": {},
   "source": [
    "Another example..."
   ]
  },
  {
   "cell_type": "code",
   "execution_count": 1,
   "metadata": {},
   "outputs": [
    {
     "name": "stdout",
     "output_type": "stream",
     "text": [
      "Enter a number: 7\n",
      "Yes\n"
     ]
    }
   ],
   "source": [
    "# Ask the user for a number.\n",
    "# If it is greater than 5, print \"Yes\".\n",
    "# Otherwise, print \"No\".\n",
    "\n",
    "x = input('Enter a number: ')\n",
    "x = float(x)\n",
    "\n",
    "if x > 5:\n",
    "    print(\"Yes\")\n",
    "else:\n",
    "    print(\"No\")"
   ]
  },
  {
   "cell_type": "markdown",
   "metadata": {},
   "source": [
    "You can have several different conditions:"
   ]
  },
  {
   "cell_type": "code",
   "execution_count": 20,
   "metadata": {},
   "outputs": [
    {
     "name": "stdout",
     "output_type": "stream",
     "text": [
      "Enter a number: 5\n",
      "Bingo!\n"
     ]
    }
   ],
   "source": [
    "# Ask the user for a number.\n",
    "# If it is greater than 5, print \"Yes\".\n",
    "# If it is equal to 5, print \"Bingo!\"\n",
    "# If it is less than 5, print \"No\".\n",
    "\n",
    "y = input('Enter a number: ')\n",
    "y = float(y)\n",
    "\n",
    "if y > 5:\n",
    "    print(\"Yes\")\n",
    "elif y == 5:\n",
    "    print(\"Bingo!\")\n",
    "else:\n",
    "    print(\"No\")"
   ]
  },
  {
   "cell_type": "markdown",
   "metadata": {},
   "source": [
    "It can be very powerful to put if statements inside loops (loops are for repeating yourself - we will cover them shortly!):"
   ]
  },
  {
   "cell_type": "code",
   "execution_count": 1,
   "metadata": {},
   "outputs": [
    {
     "name": "stdout",
     "output_type": "stream",
     "text": [
      "Susan\n",
      "Barbara\n",
      "Ian\n",
      "Vicki\n",
      "Katarina\n",
      "Polly\n"
     ]
    }
   ],
   "source": [
    "names = ['Susan','Barbara','Ian','Vicki','Steven','Katarina','Dorothea','Polly','Ben']\n",
    "\n",
    "# Print every name in this list that do not contain an \"e\":\n",
    "\n",
    "for name in names:\n",
    "    \n",
    "    name_lower = name.lower()\n",
    "    \n",
    "    if \"e\" in name_lower:\n",
    "        continue # This tells the loop to skip to the next iteration\n",
    "    \n",
    "    print(name)"
   ]
  },
  {
   "cell_type": "code",
   "execution_count": 2,
   "metadata": {},
   "outputs": [
    {
     "name": "stdout",
     "output_type": "stream",
     "text": [
      "Susan\n",
      "Barbara\n",
      "Ian\n",
      "Vicki\n"
     ]
    }
   ],
   "source": [
    "# Print every name in the list until you come to a name containing a \"t\":\n",
    "\n",
    "for name in names:\n",
    "\n",
    "    name_lower = name.lower()\n",
    "    \n",
    "    if \"t\" in name_lower:\n",
    "        break # This tells the loop to end immediately\n",
    "    \n",
    "    print(name)"
   ]
  },
  {
   "cell_type": "code",
   "execution_count": null,
   "metadata": {
    "collapsed": true
   },
   "outputs": [],
   "source": []
  },
  {
   "cell_type": "markdown",
   "metadata": {},
   "source": [
    "## Boolean Variables"
   ]
  },
  {
   "cell_type": "markdown",
   "metadata": {},
   "source": [
    "Boolean variables are always true or false:"
   ]
  },
  {
   "cell_type": "code",
   "execution_count": 9,
   "metadata": {},
   "outputs": [
    {
     "name": "stdout",
     "output_type": "stream",
     "text": [
      "True\n",
      "False\n"
     ]
    }
   ],
   "source": [
    "x = True\n",
    "y = False\n",
    "\n",
    "print(x)\n",
    "print(y)"
   ]
  },
  {
   "cell_type": "markdown",
   "metadata": {},
   "source": [
    "If you want to test whether two things are greater, less, equal or not equal, you get a Boolean result:"
   ]
  },
  {
   "cell_type": "code",
   "execution_count": 10,
   "metadata": {
    "collapsed": true
   },
   "outputs": [],
   "source": [
    "a = 1.0\n",
    "b = 5.0\n",
    "c = 10.0\n",
    "\n",
    "expression_1 = a > b\n",
    "expression_2 = a < c\n",
    "expression_3 = b + b == c\n",
    "expression_4 = a != b"
   ]
  },
  {
   "cell_type": "code",
   "execution_count": 11,
   "metadata": {},
   "outputs": [
    {
     "data": {
      "text/plain": [
       "(False, True, True, True)"
      ]
     },
     "execution_count": 11,
     "metadata": {},
     "output_type": "execute_result"
    }
   ],
   "source": [
    "expression_1, expression_2, expression_3, expression_4"
   ]
  },
  {
   "cell_type": "markdown",
   "metadata": {},
   "source": [
    "We can also check whether two expressions are both true, whether one or the other is true, whether an expression is false, etc."
   ]
  },
  {
   "cell_type": "code",
   "execution_count": 12,
   "metadata": {
    "collapsed": true
   },
   "outputs": [],
   "source": [
    "expression_5 = 1 < 2 and 3 < 4\n",
    "expression_6 = b < c or y\n",
    "expression_7 = not (b < c or True)"
   ]
  },
  {
   "cell_type": "code",
   "execution_count": 13,
   "metadata": {},
   "outputs": [
    {
     "data": {
      "text/plain": [
       "(True, True, False)"
      ]
     },
     "execution_count": 13,
     "metadata": {},
     "output_type": "execute_result"
    }
   ],
   "source": [
    "expression_5, expression_6, expression_7"
   ]
  },
  {
   "cell_type": "markdown",
   "metadata": {},
   "source": [
    "And you can combine these ideas in many different ways:"
   ]
  },
  {
   "cell_type": "code",
   "execution_count": 15,
   "metadata": {
    "collapsed": true
   },
   "outputs": [],
   "source": [
    "expression_8 = not ((y and b > c) or x)\n",
    "expression_9 = (a == b) or (a == c) or (x == y) or (19 > 20)"
   ]
  },
  {
   "cell_type": "code",
   "execution_count": 16,
   "metadata": {},
   "outputs": [
    {
     "data": {
      "text/plain": [
       "(False, False)"
      ]
     },
     "execution_count": 16,
     "metadata": {},
     "output_type": "execute_result"
    }
   ],
   "source": [
    "expression_8, expression_9"
   ]
  },
  {
   "cell_type": "markdown",
   "metadata": {},
   "source": [
    "You can also check whether an iterable contains a certain element:"
   ]
  },
  {
   "cell_type": "code",
   "execution_count": 17,
   "metadata": {
    "collapsed": true
   },
   "outputs": [],
   "source": [
    "expression_10 = 'a' in 'abc'\n",
    "expression_11 = 20 in range(10)\n",
    "expression_12 = 10 not in range(2,10,2)"
   ]
  },
  {
   "cell_type": "code",
   "execution_count": 18,
   "metadata": {},
   "outputs": [
    {
     "data": {
      "text/plain": [
       "(True, False, True)"
      ]
     },
     "execution_count": 18,
     "metadata": {},
     "output_type": "execute_result"
    }
   ],
   "source": [
    "expression_10, expression_11, expression_12"
   ]
  },
  {
   "cell_type": "markdown",
   "metadata": {},
   "source": [
    "You can use boolean variables to remember if a condition is true or false"
   ]
  },
  {
   "cell_type": "code",
   "execution_count": 11,
   "metadata": {},
   "outputs": [
    {
     "name": "stdout",
     "output_type": "stream",
     "text": [
      "How much would you like to deposit?10\n"
     ]
    },
    {
     "ename": "NameError",
     "evalue": "name 'freeToaster' is not defined",
     "output_type": "error",
     "traceback": [
      "\u001b[0;31m---------------------------------------------------------------------------\u001b[0m",
      "\u001b[0;31mNameError\u001b[0m                                 Traceback (most recent call last)",
      "\u001b[0;32m<ipython-input-11-114123364103>\u001b[0m in \u001b[0;36m<module>\u001b[0;34m()\u001b[0m\n\u001b[1;32m      5\u001b[0m \u001b[0;34m\u001b[0m\u001b[0m\n\u001b[1;32m      6\u001b[0m \u001b[0;31m# if the variable freeToaster is True, the print statement will execute\u001b[0m\u001b[0;34m\u001b[0m\u001b[0;34m\u001b[0m\u001b[0m\n\u001b[0;32m----> 7\u001b[0;31m \u001b[0;32mif\u001b[0m \u001b[0mfreeToaster\u001b[0m\u001b[0;34m:\u001b[0m\u001b[0;34m\u001b[0m\u001b[0m\n\u001b[0m\u001b[1;32m      8\u001b[0m     \u001b[0mprint\u001b[0m\u001b[0;34m(\u001b[0m\u001b[0;34m\"Enjoy your toaster\"\u001b[0m\u001b[0;34m)\u001b[0m\u001b[0;34m\u001b[0m\u001b[0m\n",
      "\u001b[0;31mNameError\u001b[0m: name 'freeToaster' is not defined"
     ]
    }
   ],
   "source": [
    "deposit = input(\"How much would you like to deposit?\")\n",
    "if float(deposit) > 100:\n",
    "    # Sey the boolean variable freeToaster to True\n",
    "    freeToaster = True\n",
    "    \n",
    "# if the variable freeToaster is True, the print statement will execute\n",
    "if freeToaster:\n",
    "    print(\"Enjoy your toaster\")"
   ]
  }
 ],
 "metadata": {
  "kernelspec": {
   "display_name": "Python 3",
   "language": "python",
   "name": "python3"
  },
  "language_info": {
   "codemirror_mode": {
    "name": "ipython",
    "version": 3
   },
   "file_extension": ".py",
   "mimetype": "text/x-python",
   "name": "python",
   "nbconvert_exporter": "python",
   "pygments_lexer": "ipython3",
   "version": "3.6.5"
  }
 },
 "nbformat": 4,
 "nbformat_minor": 1
}
